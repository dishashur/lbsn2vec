{
 "cells": [
  {
   "cell_type": "code",
   "execution_count": 1,
   "metadata": {},
   "outputs": [],
   "source": [
    "#collecting data\n",
    "import numpy as np\n",
    "import scipy.io\n",
    "mat = scipy.io.loadmat('data500.mat') #dataset_connected_NYCwhile tryin in terminal, start path with Documents"
   ]
  },
  {
   "cell_type": "markdown",
   "metadata": {},
   "source": [
    "## Preprocessing data"
   ]
  },
  {
   "cell_type": "code",
   "execution_count": 2,
   "metadata": {},
   "outputs": [
    {
     "name": "stdout",
     "output_type": "stream",
     "text": [
      "11167625\n"
     ]
    }
   ],
   "source": [
    "#friendship_new = mat['friendship_new']\n",
    "friendship_old = mat['new_friendship_old']\n",
    "selected_checkins = mat['new_checkins']\n",
    "selected_users_IDs = mat['new_users_IDs']\n",
    "#temp = mat['selected_venue_IDs']\n",
    "#selected_venue_IDs = []\n",
    "#for i in range(len(temp)):\n",
    "#    temper = temp[i][0]\n",
    "#    selected_venue_IDs.append(temper[0])\n",
    "#print(len(selected_venue_IDs)) #sanity check\n",
    "#print(len(temp)) #should be same as above\n",
    "#print(max(selected_users_IDs))\n",
    "#print(len(selected_users_IDs))\n",
    "print(max(map(max, selected_checkins)))\n",
    "#print(len(selected_checkins))\n",
    "#print(max(map(max, friendship_old)))\n",
    "#print(len(friendship_old))\n",
    "#max value in friendships should be same or less than the length of user_IDs"
   ]
  },
  {
   "cell_type": "code",
   "execution_count": 3,
   "metadata": {},
   "outputs": [
    {
     "name": "stdout",
     "output_type": "stream",
     "text": [
      "10375\n",
      "8300\n",
      "2075\n",
      "8300\n",
      "2075\n"
     ]
    }
   ],
   "source": [
    "print(np.size(selected_checkins,0))\n",
    "train_size = int((80/100)*np.size(selected_checkins,0))\n",
    "print(train_size)\n",
    "test_size = np.size(selected_checkins,0) - train_size\n",
    "print(test_size)\n",
    "train_checkins = selected_checkins[:train_size]\n",
    "test_checkins = selected_checkins[train_size:]\n",
    "print(np.size(train_checkins,0))\n",
    "print(np.size(test_checkins,0))"
   ]
  },
  {
   "cell_type": "code",
   "execution_count": 4,
   "metadata": {},
   "outputs": [],
   "source": [
    "#print(np.unique(selected_checkins))\n",
    "#print(selected_checkins)\n",
    "#print(train_checkins)\n",
    "#print(test_checkins)\n",
    "#selected_checkins = train_checkins"
   ]
  },
  {
   "cell_type": "code",
   "execution_count": 5,
   "metadata": {},
   "outputs": [],
   "source": [
    "# 1. rebuild node index\n",
    "offset1 = max(selected_checkins[:,0]);\n",
    "dumy, dumy, n = np.unique(selected_checkins[:,1],return_index=True,return_inverse=True, axis=0)\n",
    "\n",
    "\n",
    "selected_checkins[:,1] = n+offset1+1; #n is the indices of the unique values in selected_checkins[:,1]\n",
    "offset2 = max(selected_checkins[:,1]);\n",
    "dumy, dumy, n = np.unique(selected_checkins[:,2],return_index=True,return_inverse=True, axis=0)\n",
    "\n",
    "selected_checkins[:,2] = n+offset2+1;\n",
    "offset3 = max(selected_checkins[:,2]);\n",
    "dumy, dumy, n = np.unique(selected_checkins[:,3],return_index=True,return_inverse=True, axis=0)\n",
    "selected_checkins[:,3] = n+offset3+1;\n",
    "\n",
    "num_node_total = max(map(max, selected_checkins)) #max of the entire matrix = 8117"
   ]
  },
  {
   "cell_type": "code",
   "execution_count": 6,
   "metadata": {},
   "outputs": [
    {
     "name": "stdout",
     "output_type": "stream",
     "text": [
      "(10375, 4)\n",
      "1\n",
      "500\n",
      "501\n",
      "667\n",
      "668\n",
      "2730\n",
      "2731\n",
      "2977\n"
     ]
    }
   ],
   "source": [
    "print(selected_checkins.shape)\n",
    "print(min(selected_checkins[:,0]))\n",
    "print(max(selected_checkins[:,0]))\n",
    "print(min(selected_checkins[:,1]))\n",
    "print(max(selected_checkins[:,1]))\n",
    "print(min(selected_checkins[:,2]))\n",
    "print(max(selected_checkins[:,2]))\n",
    "print(min(selected_checkins[:,3]))\n",
    "print(max(selected_checkins[:,3]))"
   ]
  },
  {
   "cell_type": "code",
   "execution_count": 7,
   "metadata": {},
   "outputs": [
    {
     "name": "stdout",
     "output_type": "stream",
     "text": [
      "(481,)\n",
      "(4, 80)\n",
      "481\n"
     ]
    },
    {
     "data": {
      "text/plain": [
       "500"
      ]
     },
     "execution_count": 7,
     "metadata": {},
     "output_type": "execute_result"
    }
   ],
   "source": [
    "# 2. prepare checkins per user (fast)\n",
    "#user_chechkins is a cell in MATLAB; using Python List for the same\n",
    "user_checkins = [[] for _ in range(selected_users_IDs.shape[0])]\n",
    "user_checkins_counter=np.zeros((len(selected_users_IDs),1)).astype(np.int64)\n",
    "ind = selected_checkins[:,0].argsort(axis=0)\n",
    "temp_checkins = np.array([selected_checkins[i,:] for i in ind]) #will not exactly be similar to MATLAB op\n",
    "u,m,n = np.unique(temp_checkins[:,0],return_index=True,return_inverse=True, axis=0)\n",
    "m=m.reshape(-1,1)\n",
    "u=np.array(u)\n",
    "print(u.shape)\n",
    "counters = np.vstack((m[1:],temp_checkins.shape[0]))-m #+1 is not there because indexing starts from 0\n",
    "ini_val=0\n",
    "for i in range(0,u.shape[0]):\n",
    "    user_checkins[u[i]-1].append(temp_checkins[ini_val:ini_val+counters[i,0],:])\n",
    "    user_checkins[u[i]-1]=np.array(user_checkins[u[i]-1])[0,:,:].T\n",
    "    user_checkins[u[i]-1].astype(np.int64)\n",
    "    ini_val=ini_val+counters[i,0]\n",
    "    user_checkins_counter[u[i]-1]=counters[i].astype(np.int64)\n",
    "print(user_checkins[-1].shape) #for debugging\n",
    "\n",
    "print(np.count_nonzero(user_checkins_counter)) #for debugging\n",
    "len(user_checkins_counter)\n"
   ]
  },
  {
   "cell_type": "code",
   "execution_count": 8,
   "metadata": {},
   "outputs": [
    {
     "name": "stdout",
     "output_type": "stream",
     "text": [
      "500\n"
     ]
    }
   ],
   "source": [
    "# 3. random walk\n",
    "from scipy.sparse import csr_matrix\n",
    "num_node = len(selected_users_IDs)\n",
    "print(num_node)\n",
    "network=csr_matrix((np.ones((len(friendship_old),)), (friendship_old[:,0]-1, friendship_old[:,1]-1)), shape=(num_node, num_node))\n",
    "network=network+network.T\n",
    "#print(network)\n",
    "\n",
    "node_list=[[] for _ in range(num_node)] #num_node is number of nodes #500 in clipped case\n",
    "node_list_len = np.zeros((num_node,));\n",
    "num_walk = 10\n",
    "len_walk = 80\n",
    "(indx,indy) = network.T.nonzero()\n",
    "#for i in range(len(indx)):\n",
    "#    indx[i]+=1\n",
    "#    indy[i]+=1\n",
    "\n",
    "temp, m, n = np.unique(indx,return_index=True,return_inverse=True, axis=0) #check m for debugging\n",
    "m=np.array(m).reshape(-1,1)\n",
    "node_list_len=np.vstack((m[1:],len(indx))) - m #+1 is not there because indexing starts from 0\n",
    "ini_val=0\n",
    "temp=np.array(temp)\n",
    "node_list_len=node_list_len[:,0] #for indexing\n",
    "\n",
    "for i in range(0,temp.shape[0]):\n",
    "    node_list[temp[i]].append(indy[ini_val:ini_val+node_list_len[i]])\n",
    "    ini_val=ini_val+node_list_len[i]\n",
    "#node_list #for debugging match with MATLAB\n",
    "#node_list_len.shape = np.count_nonzero(node_list_len) has to be as written in MATLAB script\n"
   ]
  },
  {
   "cell_type": "code",
   "execution_count": 9,
   "metadata": {},
   "outputs": [
    {
     "name": "stdout",
     "output_type": "stream",
     "text": [
      "(500,)\n",
      "500\n"
     ]
    }
   ],
   "source": [
    "#print(indx)\n",
    "#print(np.unique(indx))\n",
    "print(np.unique(indx).shape) # should be equal to num_node\n",
    "print(num_node)"
   ]
  },
  {
   "cell_type": "code",
   "execution_count": 10,
   "metadata": {},
   "outputs": [
    {
     "name": "stdout",
     "output_type": "stream",
     "text": [
      "[[  1  30   1 ... 289 250 409]\n",
      " [  2  79 279 ... 109 257 127]\n",
      " [  3   3 401 ... 185 461 500]\n",
      " ...\n",
      " [498 331 198 ... 373  98 234]\n",
      " [499 217 206 ... 480  12 389]\n",
      " [500   1 457 ... 310  36  68]]\n"
     ]
    }
   ],
   "source": [
    "# let's have a walk over social network (friendship)\n",
    "import random\n",
    "walks = np.zeros((num_walk*num_node,len_walk),dtype = np.int64);\n",
    "for ww in range(num_walk):\n",
    "    for ii in range(num_node):\n",
    "        seq = np.zeros((len_walk,),dtype=int)\n",
    "        seq[0] = ii\n",
    "        current_e = ii\n",
    "        for jj in range(len_walk-1):\n",
    "            rand_ind = random.randint(0, node_list_len[seq[jj]]-1);\n",
    "            tempvar = node_list[seq[jj]][0] \n",
    "            #print(node_list_len[seq[jj]])\n",
    "            #print(rand_ind)\n",
    "            #print(tempvar.shape)\n",
    "            seq[jj+1] = tempvar[rand_ind];\n",
    "        \n",
    "        walks[ii+(ww-1)*num_node,:] = seq\n",
    "        \n",
    "#preprocessing for removing 0 quantities\n",
    "for i in range(walks.shape[0]):\n",
    "    for j in range(walks.shape[1]):\n",
    "        walks[i,j] = walks[i,j] +1\n",
    "#print(min(map(min, walks))) #should be 1 and 4024\n",
    "print(walks)"
   ]
  },
  {
   "cell_type": "code",
   "execution_count": 11,
   "metadata": {},
   "outputs": [
    {
     "name": "stdout",
     "output_type": "stream",
     "text": [
      "(5744,)\n",
      "[  1  23  29 ... 458 460 487]\n",
      "[  1   1   1 ... 500 500 500]\n"
     ]
    }
   ],
   "source": [
    "# 4. prepare negative sample table in advance (fast)\n",
    "# social relationship\n",
    "from collections import Counter\n",
    "(dumy,r) = network.nonzero(); #MATLAB gives [y,x]; Python gives (x,y)\n",
    "print(r.shape)\n",
    "print(r)\n",
    "temptab = Counter(r) #len(temptab) = size(tab_degree,1) #Counter gives unique elements in r\n",
    "tab2= [[] for _ in range(len(temptab))]\n",
    "\n",
    "for i in range(len(temptab)):\n",
    "    tab2[i].append(temptab[i])\n",
    "tab2=np.array(tab2)[:,0] #when printing temptab, not in asc. order but here it becomes asc. wrt keys\n",
    "\n",
    "tab1=np.unique(r)\n",
    "tab3=[[] for _ in range(len(tab1))]\n",
    "tot=sum(tab2)\n",
    "for i in range(len(tab1)):\n",
    "    tab3[i]=round((tab2[i]*100)/tot,4)\n",
    "tab_degree=np.stack((tab1,tab2,tab3),axis=1) # equivalent of tab_degree = tabulate(r) in MATLAB\n",
    "\n",
    "freq = np.array([round(np.power(i,0.75),4) for i in tab_degree[:,2]] )\n",
    "den=float(sum(freq))\n",
    "neg_sam_table_social = np.repeat((1+tab_degree[:,0]),np.around(1000000*freq/sum(freq)).astype(np.int64))\n",
    "neg_sam_table_social=neg_sam_table_social.astype(np.int64) # unigram with 0.75 power\n",
    "#neg_sam_table_social[740] check for debugging\n",
    "del temptab,tab1,tab2,tab3,tab_degree,freq,den\n",
    "print(neg_sam_table_social)"
   ]
  },
  {
   "cell_type": "code",
   "execution_count": 12,
   "metadata": {},
   "outputs": [
    {
     "name": "stdout",
     "output_type": "stream",
     "text": [
      "[array([[  1,   1,   1, ..., 500, 500, 500]]), array([[501, 501, 501, ..., 667, 667, 667]]), array([[ 668,  668,  668, ..., 2730, 2730, 2730]]), array([[2731, 2731, 2731, ..., 2977, 2977, 2977]])]\n"
     ]
    }
   ],
   "source": [
    "#checkins: user, venue, time, semantic, with node type normalization for each node domain\n",
    "\n",
    "neg_sam_table_mobility_norm = [[] for _ in range(4)]\n",
    "for ii in range(len(neg_sam_table_mobility_norm)):\n",
    "    tab1=np.array([elem for elem in range(max(temp_checkins[:,ii]))])#tab1 has all elements;even with frequency 0\n",
    "    temptab = Counter(temp_checkins[:,ii]) #correct\n",
    "    tab2= np.zeros((len(tab1),))\n",
    "    for i in tab1:\n",
    "        tab2[i]= temptab[i+1] #because in python, index starts from 0\n",
    "    tab2 = np.array(tab2)\n",
    "    tot=np.sum(tab2)\n",
    "    tab3=np.zeros((len(tab1),))\n",
    "    for i in range(len(tab1)):\n",
    "        tab3[i]= np.round((tab2[i]*100)/tot,4) if (tot) else 0\n",
    "    tab3=np.array(tab3)\n",
    "    tab_degree=np.stack((tab1,tab2,tab3),axis=1)\n",
    "    freq = np.array([np.round(np.power(i,0.75),4) for i in tab_degree[:,2]])\n",
    "    den=float(sum(freq))\n",
    "    ingoes = np.repeat((tab_degree[:,0]+1),np.around(100000*freq/sum(freq)).astype(np.int64))\n",
    "    neg_sam_table_mobility_norm[ii].append(ingoes)\n",
    "\n",
    "    del tab1,tab2,i,tab3,tab_degree,freq,ingoes,tot\n",
    "\n",
    "neg_sam_table_mobility_norm = [np.array(x).astype(np.int64) for x in neg_sam_table_mobility_norm]\n",
    "\n",
    "#neg_sam_table_mobility1 = neg_sam_table_mobility_norm[3][0]\n",
    "#neg_sam_table_mobility1[5]\n",
    "print(neg_sam_table_mobility_norm)"
   ]
  },
  {
   "cell_type": "code",
   "execution_count": 13,
   "metadata": {},
   "outputs": [
    {
     "name": "stdout",
     "output_type": "stream",
     "text": [
      "[[   1  661 2459 2893]\n",
      " [   1  568 1060 2823]\n",
      " [   1  590 1115 2784]\n",
      " ...\n",
      " [ 500  569 2695 2828]\n",
      " [ 500  507 1992 2939]\n",
      " [ 500  639 1469 2774]]\n",
      "41500\n"
     ]
    }
   ],
   "source": [
    "print(temp_checkins)\n",
    "print(np.size(temp_checkins))"
   ]
  },
  {
   "cell_type": "code",
   "execution_count": 14,
   "metadata": {},
   "outputs": [],
   "source": [
    "# LBSN2vec\n",
    "dim_emb = 2 #128\n",
    "num_epoch = 1\n",
    "num_threads =  4\n",
    "K_neg = 3 #10\n",
    "win_size = 2 #10\n",
    "learning_rate = 0.001\n",
    "\n",
    "embs_ini = (np.random.uniform(size=(num_node_total,dim_emb))-0.5)/dim_emb \n",
    "temp = np.sum(np.power(embs_ini,2),axis=1)\n",
    "embs_len = np.power(temp,0.5)\n",
    "den = embs_len\n",
    "for i in range(dim_emb-1):\n",
    "    den=np.vstack((den,embs_len))\n",
    "den=den.T\n",
    "#print(den.shape)\n",
    "#print(embs_ini.shape)\n",
    "embs_ini = np.divide(embs_ini,den)\n",
    "\n",
    "mobility_ratio = 0.2"
   ]
  },
  {
   "cell_type": "code",
   "execution_count": 15,
   "metadata": {},
   "outputs": [
    {
     "name": "stdout",
     "output_type": "stream",
     "text": [
      "this is num_w 5000\n",
      "this is num_wl 80\n",
      "[[  1   2   3 ... 498 499 500]\n",
      " [ 30  79   3 ... 331 217   1]\n",
      " [  1 279 401 ... 198 206 457]\n",
      " ...\n",
      " [289 109 185 ... 373 480 310]\n",
      " [250 257 461 ...  98  12  36]\n",
      " [409 127 500 ... 234 389  68]]\n",
      "This is epoch 0\n",
      "[[ 0.04838622 -0.72745883  0.99199433 ...  0.21755863 -0.73229528\n",
      "  -0.54984668]\n",
      " [-0.9988287  -0.68615133  0.12628244 ... -0.97604726  0.68098725\n",
      "   0.8352656 ]]\n"
     ]
    },
    {
     "ename": "KeyboardInterrupt",
     "evalue": "",
     "output_type": "error",
     "traceback": [
      "\u001b[0;31m---------------------------------------------------------------------------\u001b[0m",
      "\u001b[0;31mKeyboardInterrupt\u001b[0m                         Traceback (most recent call last)",
      "\u001b[0;32m<ipython-input-15-2f8122398c3b>\u001b[0m in \u001b[0;36m<module>\u001b[0;34m\u001b[0m\n\u001b[1;32m      3\u001b[0m embs = learn_LBSN2Vec_embedding.driver_fn(walks.T,user_checkins, user_checkins_counter,embs_ini.T,learning_rate, \n\u001b[1;32m      4\u001b[0m                                 \u001b[0mK_neg\u001b[0m\u001b[0;34m,\u001b[0m\u001b[0mneg_sam_table_social\u001b[0m\u001b[0;34m,\u001b[0m \u001b[0mwin_size\u001b[0m\u001b[0;34m,\u001b[0m \u001b[0mneg_sam_table_mobility_norm\u001b[0m\u001b[0;34m,\u001b[0m\u001b[0;34m\u001b[0m\u001b[0;34m\u001b[0m\u001b[0m\n\u001b[0;32m----> 5\u001b[0;31m                                 num_epoch, mobility_ratio);\n\u001b[0m",
      "\u001b[0;32m~/Documents/IITH2020/learn_LBSN2Vec_embedding.py\u001b[0m in \u001b[0;36mdriver_fn\u001b[0;34m(walks, user_checkins, user_checkins_counter, embs_ini, learning_rate, K_neg, neg_sam_table_social, win_size, neg_sam_table_mobility_norm, num_epoch, mobility_ratio)\u001b[0m\n\u001b[1;32m    278\u001b[0m                                         \u001b[0mneg_sam_table_social\u001b[0m\u001b[0;34m,\u001b[0m\u001b[0mtable_size_social\u001b[0m\u001b[0;34m,\u001b[0m \u001b[0mwin_size\u001b[0m\u001b[0;34m,\u001b[0m \u001b[0mneg_sam_table_mobility1\u001b[0m\u001b[0;34m,\u001b[0m\u001b[0mtable_size_mobility1\u001b[0m\u001b[0;34m,\u001b[0m\u001b[0mneg_sam_table_mobility2\u001b[0m\u001b[0;34m,\u001b[0m\u001b[0;34m\u001b[0m\u001b[0;34m\u001b[0m\u001b[0m\n\u001b[1;32m    279\u001b[0m                                         \u001b[0mtable_size_mobility2\u001b[0m\u001b[0;34m,\u001b[0m\u001b[0mneg_sam_table_mobility3\u001b[0m\u001b[0;34m,\u001b[0m\u001b[0mtable_size_mobility3\u001b[0m\u001b[0;34m,\u001b[0m\u001b[0mneg_sam_table_mobility4\u001b[0m\u001b[0;34m,\u001b[0m\u001b[0mtable_size_mobility4\u001b[0m\u001b[0;34m,\u001b[0m\u001b[0;34m\u001b[0m\u001b[0;34m\u001b[0m\u001b[0m\n\u001b[0;32m--> 280\u001b[0;31m \t\t\t\t\tnum_epoch, mobility_ratio)\n\u001b[0m\u001b[1;32m    281\u001b[0m     \u001b[0;32mreturn\u001b[0m\u001b[0;34m(\u001b[0m\u001b[0memb_n\u001b[0m\u001b[0;34m)\u001b[0m\u001b[0;34m\u001b[0m\u001b[0;34m\u001b[0m\u001b[0m\n\u001b[1;32m    282\u001b[0m \u001b[0;34m\u001b[0m\u001b[0m\n",
      "\u001b[0;32m~/Documents/IITH2020/learn_LBSN2Vec_embedding.py\u001b[0m in \u001b[0;36mlearn\u001b[0;34m(walk, num_w, num_wl, user_checkins, user_checkins_count, emb_n, num_n, dim_emb, starting_alpha, num_neg, neg_sam_table_social, table_size_social, win_size, neg_sam_table_mobility1, table_size_mobility1, neg_sam_table_mobility2, table_size_mobility2, neg_sam_table_mobility3, table_size_mobility3, neg_sam_table_mobility4, table_size_mobility4, num_epoch, mobility_ratio)\u001b[0m\n\u001b[1;32m    231\u001b[0m                                                       \u001b[0mneg_sam_table_mobility1\u001b[0m\u001b[0;34m,\u001b[0m \u001b[0mneg_sam_table_mobility2\u001b[0m\u001b[0;34m,\u001b[0m \u001b[0mneg_sam_table_mobility3\u001b[0m\u001b[0;34m,\u001b[0m\u001b[0;34m\u001b[0m\u001b[0;34m\u001b[0m\u001b[0m\n\u001b[1;32m    232\u001b[0m                                                       \u001b[0mneg_sam_table_mobility4\u001b[0m\u001b[0;34m,\u001b[0m \u001b[0mtable_size_mobility1\u001b[0m\u001b[0;34m,\u001b[0m \u001b[0mtable_size_mobility2\u001b[0m\u001b[0;34m,\u001b[0m\u001b[0;34m\u001b[0m\u001b[0;34m\u001b[0m\u001b[0m\n\u001b[0;32m--> 233\u001b[0;31m                                                       table_size_mobility3, table_size_mobility4)\n\u001b[0m\u001b[1;32m    234\u001b[0m                             \u001b[0;31m#print(\"time taken to learn hyperedge \"+str(process_time() - hyp))\u001b[0m\u001b[0;34m\u001b[0m\u001b[0;34m\u001b[0m\u001b[0;34m\u001b[0m\u001b[0m\n\u001b[1;32m    235\u001b[0m                 \u001b[0;31m#print(\"this is num_wl: \"+str(i)+\" and num_w \"+str(w))\u001b[0m\u001b[0;34m\u001b[0m\u001b[0;34m\u001b[0m\u001b[0;34m\u001b[0m\u001b[0m\n",
      "\u001b[0;32m~/Documents/IITH2020/learn_LBSN2Vec_embedding.py\u001b[0m in \u001b[0;36mlearn_a_hyperedge\u001b[0;34m(edge, edge_len, next_random, best_fit, dim_emb, emb_n, alpha, num_neg, neg_sam_table_mobility1, neg_sam_table_mobility2, neg_sam_table_mobility3, neg_sam_table_mobility4, table_size_mobility1, table_size_mobility2, table_size_mobility3, table_size_mobility4)\u001b[0m\n\u001b[1;32m    157\u001b[0m                     \u001b[0mtarget_neg\u001b[0m \u001b[0;34m=\u001b[0m \u001b[0mget_a_neg_sample\u001b[0m\u001b[0;34m(\u001b[0m\u001b[0mnext_random\u001b[0m\u001b[0;34m,\u001b[0m \u001b[0mneg_sam_table_mobility1\u001b[0m\u001b[0;34m,\u001b[0m \u001b[0mtable_size_mobility1\u001b[0m\u001b[0;34m)\u001b[0m\u001b[0;34m\u001b[0m\u001b[0;34m\u001b[0m\u001b[0m\n\u001b[1;32m    158\u001b[0m                 \u001b[0;32melif\u001b[0m \u001b[0;34m(\u001b[0m\u001b[0mi\u001b[0m\u001b[0;34m==\u001b[0m\u001b[0;36m1\u001b[0m\u001b[0;34m)\u001b[0m\u001b[0;34m:\u001b[0m\u001b[0;34m\u001b[0m\u001b[0;34m\u001b[0m\u001b[0m\n\u001b[0;32m--> 159\u001b[0;31m                     \u001b[0mtarget_neg\u001b[0m \u001b[0;34m=\u001b[0m \u001b[0mget_a_neg_sample\u001b[0m\u001b[0;34m(\u001b[0m\u001b[0mnext_random\u001b[0m\u001b[0;34m,\u001b[0m \u001b[0mneg_sam_table_mobility2\u001b[0m\u001b[0;34m,\u001b[0m \u001b[0mtable_size_mobility2\u001b[0m\u001b[0;34m)\u001b[0m\u001b[0;34m\u001b[0m\u001b[0;34m\u001b[0m\u001b[0m\n\u001b[0m\u001b[1;32m    160\u001b[0m                 \u001b[0;32melif\u001b[0m \u001b[0;34m(\u001b[0m\u001b[0mi\u001b[0m\u001b[0;34m==\u001b[0m\u001b[0;36m2\u001b[0m\u001b[0;34m)\u001b[0m\u001b[0;34m:\u001b[0m\u001b[0;34m\u001b[0m\u001b[0;34m\u001b[0m\u001b[0m\n\u001b[1;32m    161\u001b[0m                     \u001b[0mtarget_neg\u001b[0m \u001b[0;34m=\u001b[0m \u001b[0mget_a_neg_sample\u001b[0m\u001b[0;34m(\u001b[0m\u001b[0mnext_random\u001b[0m\u001b[0;34m,\u001b[0m \u001b[0mneg_sam_table_mobility3\u001b[0m\u001b[0;34m,\u001b[0m \u001b[0mtable_size_mobility3\u001b[0m\u001b[0;34m)\u001b[0m\u001b[0;34m\u001b[0m\u001b[0;34m\u001b[0m\u001b[0m\n",
      "\u001b[0;32m~/Documents/IITH2020/learn_LBSN2Vec_embedding.py\u001b[0m in \u001b[0;36mget_a_neg_sample\u001b[0;34m(next_random, neg_sam_table, table_size)\u001b[0m\n\u001b[1;32m     41\u001b[0m \u001b[0;34m\u001b[0m\u001b[0m\n\u001b[1;32m     42\u001b[0m \u001b[0;32mdef\u001b[0m \u001b[0mget_a_neg_sample\u001b[0m\u001b[0;34m(\u001b[0m\u001b[0mnext_random\u001b[0m\u001b[0;34m,\u001b[0m \u001b[0mneg_sam_table\u001b[0m\u001b[0;34m,\u001b[0m \u001b[0mtable_size\u001b[0m\u001b[0;34m)\u001b[0m\u001b[0;34m:\u001b[0m\u001b[0;34m\u001b[0m\u001b[0;34m\u001b[0m\u001b[0m\n\u001b[0;32m---> 43\u001b[0;31m     \u001b[0mind\u001b[0m \u001b[0;34m=\u001b[0m \u001b[0;34m(\u001b[0m\u001b[0mnext_random\u001b[0m \u001b[0;34m>>\u001b[0m \u001b[0;36m16\u001b[0m\u001b[0;34m)\u001b[0m \u001b[0;34m%\u001b[0m \u001b[0mtable_size\u001b[0m\u001b[0;34m\u001b[0m\u001b[0;34m\u001b[0m\u001b[0m\n\u001b[0m\u001b[1;32m     44\u001b[0m     \u001b[0mtarget_n\u001b[0m \u001b[0;34m=\u001b[0m \u001b[0mneg_sam_table\u001b[0m\u001b[0;34m[\u001b[0m\u001b[0mind\u001b[0m\u001b[0;34m]\u001b[0m\u001b[0;34m\u001b[0m\u001b[0;34m\u001b[0m\u001b[0m\n\u001b[1;32m     45\u001b[0m     \u001b[0;32mreturn\u001b[0m\u001b[0;34m(\u001b[0m\u001b[0mtarget_n\u001b[0m\u001b[0;34m)\u001b[0m\u001b[0;34m\u001b[0m\u001b[0;34m\u001b[0m\u001b[0m\n",
      "\u001b[0;31mKeyboardInterrupt\u001b[0m: "
     ]
    }
   ],
   "source": [
    "import learn_LBSN2Vec_embedding\n",
    "\n",
    "embs = learn_LBSN2Vec_embedding.driver_fn(walks.T,user_checkins, user_checkins_counter,embs_ini.T,learning_rate, \n",
    "                                K_neg,neg_sam_table_social, win_size, neg_sam_table_mobility_norm,\n",
    "                                num_epoch, mobility_ratio);"
   ]
  },
  {
   "cell_type": "code",
   "execution_count": 53,
   "metadata": {
    "scrolled": true
   },
   "outputs": [
    {
     "name": "stdout",
     "output_type": "stream",
     "text": [
      "(2, 341)\n",
      "1\n",
      "341\n",
      "(246, 4)\n",
      "this is range of user 1\n",
      "this is range of user 10\n",
      "this is range of time 11\n",
      "this is range of time 104\n",
      "this is range of venue_index 105\n",
      "this is range of venue_index 267\n",
      "this is range of venue_category_index 268\n",
      "this is range of venue_category_index 341\n"
     ]
    }
   ],
   "source": [
    "print(embs.shape)\n",
    "print(np.min(temp_checkins))\n",
    "print(np.max(temp_checkins))\n",
    "print(temp_checkins.shape)\n",
    "print(\"this is range of user \"+ str(min(temp_checkins[:,0])))\n",
    "print(\"this is range of user \"+ str(max(temp_checkins[:,0])))\n",
    "print(\"this is range of time \"+ str(min(temp_checkins[:,1])))\n",
    "print(\"this is range of time \"+ str(max(temp_checkins[:,1])))\n",
    "print(\"this is range of venue_index \"+ str(min(temp_checkins[:,2])))\n",
    "print(\"this is range of venue_index \"+ str(max(temp_checkins[:,2])))\n",
    "print(\"this is range of venue_category_index \"+ str(min(temp_checkins[:,3])))\n",
    "print(\"this is range of venue_category_index \"+ str(max(temp_checkins[:,3])))"
   ]
  },
  {
   "cell_type": "code",
   "execution_count": 56,
   "metadata": {
    "scrolled": true
   },
   "outputs": [
    {
     "name": "stdout",
     "output_type": "stream",
     "text": [
      "this is count 19\n",
      "this is count fraction 0.07723577235772358\n"
     ]
    }
   ],
   "source": [
    "#normalizing\n",
    "\n",
    "twodemb = np.zeros((embs.shape[1],2))\n",
    "for i in range(twodemb.shape[0]):\n",
    "    twodemb[i,0] = embs[0,i]\n",
    "    twodemb[i,1] = embs[1,i]\n",
    "    \n",
    "    \n",
    "#location prediction on the learnt embeddings\n",
    "from scipy.spatial import distance\n",
    "\n",
    "count = 0\n",
    "\n",
    "for d in range(selected_checkins.shape[0]):\n",
    "    test = selected_checkins[d]\n",
    "    user = test[0]\n",
    "    time = test[1]\n",
    "    dist = []\n",
    "    \n",
    "    for i in range(min(selected_checkins[:,2]),max(selected_checkins[:,2])+1):\n",
    "        summ = (1 - distance.cosine(twodemb[user-1,:],twodemb[i-1,:]))+(1 - distance.cosine(twodemb[time-1,:],twodemb[i-1,:]))\n",
    "        dist.append((abs(summ),i))\n",
    "        \n",
    "    dist = sorted(dist, key=lambda student: student[0])\n",
    "    if test[2] in (np.array(dist[0:10])[:,1]):\n",
    "        count+=1\n",
    "print(\"this is count \"+str(count))\n",
    "print(\"this is count fraction \"+str(count/selected_checkins.shape[0]))"
   ]
  },
  {
   "cell_type": "code",
   "execution_count": 23,
   "metadata": {},
   "outputs": [],
   "source": [
    "#neg_sam_table_mobility = neg_sam_table_mobility_norm\n",
    "#neg_sam_table_mobility1 = neg_sam_table_mobility[0][0]\n",
    "#table_size_mobility1 = neg_sam_table_mobility1.shape\n",
    "#table_size\n",
    "x = embs[0]\n",
    "y = embs[1]\n",
    "pic = np.zeros(shape = [len(y),2])\n",
    "pic[:,0]=[i for i in x]\n",
    "pic[:,1]=[i for i in y]\n"
   ]
  },
  {
   "cell_type": "markdown",
   "metadata": {},
   "source": []
  },
  {
   "cell_type": "code",
   "execution_count": 26,
   "metadata": {},
   "outputs": [
    {
     "data": {
      "text/plain": [
       "[<matplotlib.lines.Line2D at 0x7f613bbad048>]"
      ]
     },
     "execution_count": 26,
     "metadata": {},
     "output_type": "execute_result"
    },
    {
     "data": {
      "image/png": "[encoded data removed]",
      "text/plain": [
       "<Figure size 432x288 with 1 Axes>"
      ]
     },
     "metadata": {
      "needs_background": "light"
     },
     "output_type": "display_data"
    }
   ],
   "source": [
    "import matplotlib.pyplot as mpp\n",
    "mpp.plot(x,y,'bo')\n"
   ]
  },
  {
   "cell_type": "code",
   "execution_count": null,
   "metadata": {},
   "outputs": [],
   "source": []
  }
 ],
 "metadata": {
  "kernelspec": {
   "display_name": "Python 3",
   "language": "python",
   "name": "python3"
  },
  "language_info": {
   "codemirror_mode": {
    "name": "ipython",
    "version": 3
   },
   "file_extension": ".py",
   "mimetype": "text/x-python",
   "name": "python",
   "nbconvert_exporter": "python",
   "pygments_lexer": "ipython3",
   "version": "3.6.12"
  }
 },
 "nbformat": 4,
 "nbformat_minor": 2
}
