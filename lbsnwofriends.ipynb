{
 "cells": [
  {
   "cell_type": "code",
   "execution_count": 1,
   "metadata": {},
   "outputs": [],
   "source": [
    "#collecting data\n",
    "import numpy as np\n",
    "import scipy.io\n",
    "mat = scipy.io.loadmat('dataset_connected_NYC.mat') #data10while tryin in terminal, start path with Documents"
   ]
  },
  {
   "cell_type": "code",
   "execution_count": 2,
   "metadata": {},
   "outputs": [
    {
     "name": "stdout",
     "output_type": "stream",
     "text": [
      "(4024,)\n",
      "(4024, 1)\n",
      "(3785,)\n",
      "(3628,)\n",
      "(105961,)\n"
     ]
    }
   ],
   "source": [
    "#friendship_new = mat['friendship_new']\n",
    "friendship_new = mat['friendship_new']\n",
    "friendship_old = mat['friendship_old']#new_friendship_old\n",
    "selected_checkins = mat['selected_checkins'] #new_checkins\n",
    "selected_users_IDs = mat['selected_users_IDs'] #new_users_IDs\n",
    "\n",
    "#print(min(map(min, friendship_old)))\n",
    "\n",
    "print(np.unique(selected_users_IDs).shape)\n",
    "print(selected_users_IDs.shape)\n",
    "print(np.unique(selected_checkins[:,0]).shape)\n",
    "print(np.unique(selected_checkins[:,2]).shape)\n",
    "print(selected_checkins[:,2].shape)"
   ]
  },
  {
   "cell_type": "code",
   "execution_count": 3,
   "metadata": {},
   "outputs": [
    {
     "name": "stdout",
     "output_type": "stream",
     "text": [
      "(4024, 2)\n",
      "[2821, 1958, 39, 40, 1777, 1504, 3235, 1497, 3191, 3129]\n",
      "10\n"
     ]
    }
   ],
   "source": [
    "qty = 10 #number of entities\n",
    "num_ckn_wanted = 3 #number of checkin per user from the data\n",
    "\n",
    "\n",
    "num_usr_chkn = np.zeros((len(selected_users_IDs),2)).astype(np.int64)\n",
    "print(num_usr_chkn.shape)\n",
    "for ele in selected_checkins[:,0]:\n",
    "    num_usr_chkn[ele-1][0]+=1\n",
    "    num_usr_chkn[ele-1][1]=ele\n",
    "num_usr_chkn=num_usr_chkn[np.argsort(num_usr_chkn[:,0])]\n",
    "#taking 50 IDs with num_ckn_wanted checkins\n",
    "k=qty\n",
    "new_users_IDs=[]\n",
    "for i in num_usr_chkn:\n",
    "    if i[0]==num_ckn_wanted and k>0:\n",
    "        new_users_IDs.append(i[1])\n",
    "        k-=1\n",
    "print(new_users_IDs)\n",
    "temp=[]\n",
    "for i in range(len(new_users_IDs)):\n",
    "    k = np.where(selected_checkins[:,0]==new_users_IDs[i]) \n",
    "    #check that the value is less than size of checkins and number of values is = num_ckn_wanted\n",
    "    for j in k:\n",
    "        temp.append(selected_checkins[j,:])\n",
    "selected_checkins = np.array(temp)[:,0,:]\n",
    "print(len(selected_checkins))"
   ]
  },
  {
   "cell_type": "code",
   "execution_count": 4,
   "metadata": {},
   "outputs": [
    {
     "name": "stdout",
     "output_type": "stream",
     "text": [
      "8\n"
     ]
    }
   ],
   "source": [
    "train_size = int((80/100)*np.size(selected_checkins,0))\n",
    "test_size = np.size(selected_checkins,0) - train_size\n",
    "train_checkins = selected_checkins[:train_size]\n",
    "test_checkins = selected_checkins[train_size:]\n",
    "orig_checkins = selected_checkins\n",
    "selected_checkins = train_checkins\n",
    "print(len(selected_checkins))"
   ]
  },
  {
   "cell_type": "code",
   "execution_count": 5,
   "metadata": {
    "scrolled": true
   },
   "outputs": [
    {
     "name": "stdout",
     "output_type": "stream",
     "text": [
      "[ 3968  5333  7415  7607  8862  9336 19754 75235]\n",
      "[5 3 8 6 7 4 1 2]\n"
     ]
    }
   ],
   "source": [
    "k=np.sort(selected_checkins[:,2])\n",
    "print(k)\n",
    "for i in range(len(k)):\n",
    "    t=np.array(np.where(selected_checkins[:,2]==k[i]))\n",
    "    for j in range(len(t[0])):\n",
    "        selected_checkins[t[0][j],2]=i+j+1\n",
    "print(selected_checkins[:,2])"
   ]
  },
  {
   "cell_type": "code",
   "execution_count": 6,
   "metadata": {},
   "outputs": [
    {
     "name": "stdout",
     "output_type": "stream",
     "text": [
      "[1 2 3 4 5 6 7 8]\n"
     ]
    }
   ],
   "source": [
    "chk = np.sort(selected_checkins[:,2])\n",
    "print(chk)"
   ]
  },
  {
   "cell_type": "code",
   "execution_count": 7,
   "metadata": {},
   "outputs": [
    {
     "name": "stdout",
     "output_type": "stream",
     "text": [
      "[[2821  108    5   67]\n",
      " [1958  109    3  307]\n",
      " [  39   65    8  337]\n",
      " [  40   27    6  113]\n",
      " [1777   88    7   47]\n",
      " [1504   82    4  283]\n",
      " [3235  144    1  300]\n",
      " [1497   22    2   44]]\n"
     ]
    }
   ],
   "source": [
    "print(selected_checkins)"
   ]
  },
  {
   "cell_type": "code",
   "execution_count": 8,
   "metadata": {},
   "outputs": [],
   "source": [
    "#swapping the col locations\n",
    "selected_checkins[:,[0,2]]=selected_checkins[:,[2,0]]\n",
    "#the configuration of selected_checkin now\n",
    "#location, hours in the day, users_ID, location category\n",
    "\n",
    "# 1. rebuild node index\n",
    "offset1 = max(selected_checkins[:,0]);\n",
    "dumy, dumy, n = np.unique(selected_checkins[:,1],return_index=True,return_inverse=True, axis=0)\n",
    "\n",
    "\n",
    "selected_checkins[:,1] = n+offset1+1; #n is the indices of the unique values in selected_checkins[:,1]\n",
    "offset2 = max(selected_checkins[:,1]);\n",
    "dumy, dumy, n = np.unique(selected_checkins[:,2],return_index=True,return_inverse=True, axis=0)\n",
    "\n",
    "selected_checkins[:,2] = n+offset2+1;\n",
    "offset3 = max(selected_checkins[:,2]);\n",
    "dumy, dumy, n = np.unique(selected_checkins[:,3],return_index=True,return_inverse=True, axis=0)\n",
    "selected_checkins[:,3] = n+offset3+1;\n",
    "\n",
    "num_node_total = max(map(max, selected_checkins)) #max of the entire matrix = 8117"
   ]
  },
  {
   "cell_type": "code",
   "execution_count": 9,
   "metadata": {},
   "outputs": [
    {
     "name": "stdout",
     "output_type": "stream",
     "text": [
      "(8, 4)\n",
      "1\n",
      "8\n",
      "9\n",
      "16\n",
      "17\n",
      "24\n",
      "25\n",
      "32\n"
     ]
    }
   ],
   "source": [
    "print(selected_checkins.shape)\n",
    "print(min(selected_checkins[:,0]))\n",
    "print(max(selected_checkins[:,0]))\n",
    "print(min(selected_checkins[:,1]))\n",
    "print(max(selected_checkins[:,1]))\n",
    "print(min(selected_checkins[:,2]))\n",
    "print(max(selected_checkins[:,2]))\n",
    "print(min(selected_checkins[:,3]))\n",
    "print(max(selected_checkins[:,3]))"
   ]
  },
  {
   "cell_type": "code",
   "execution_count": 10,
   "metadata": {},
   "outputs": [
    {
     "name": "stdout",
     "output_type": "stream",
     "text": [
      "8\n",
      "8\n"
     ]
    }
   ],
   "source": [
    "import random\n",
    "unique_checkins = np.unique(selected_checkins[:,0])\n",
    "selected_location = random.sample(list(unique_checkins),len(unique_checkins))\n",
    "#random.sample randomly selectes 2nd arg number of elements from 1st arg\n",
    "#selecting all locations so that no loss of information occurs\n",
    "selected_location = np.array(selected_location) #for function compatibility\n",
    "print(len(selected_location))\n",
    "print(len(selected_checkins[:,0]))"
   ]
  },
  {
   "cell_type": "code",
   "execution_count": 11,
   "metadata": {},
   "outputs": [],
   "source": [
    "#uncomment for debugging\n",
    "#print(selected_location)\n",
    "#print(selected_checkins[:,2])"
   ]
  },
  {
   "cell_type": "code",
   "execution_count": 12,
   "metadata": {},
   "outputs": [],
   "source": [
    "# 2. prepare checkins per location (fast)\n",
    "#user_chechkins is a cell in MATLAB; using Python List for the same\n",
    "    user_checkins = [[] for _ in range(selected_location.shape[0])]\n",
    "    user_checkins_counter=np.zeros((len(selected_location),1)).astype(np.int64)\n",
    "    ind = selected_checkins[:,0].argsort(axis=0)\n",
    "    temp_checkins = np.array([selected_checkins[i,:] for i in ind]) #will not exactly be similar to MATLAB op\n",
    "    u,m,n = np.unique(temp_checkins[:,0],return_index=True,return_inverse=True, axis=0)\n",
    "    m=m.reshape(-1,1)\n",
    "    u=np.array(u)\n",
    "    u= u-min(u)\n",
    "    counters = np.vstack((m[1:],temp_checkins.shape[0]))-m #+1 is not there because indexing starts from 0\n",
    "    ini_val=0 #min(selected_location)\n",
    "    for i in range(0,u.shape[0]):\n",
    "        user_checkins[u[i]-1].append(temp_checkins[ini_val:ini_val+counters[i,0],:])\n",
    "        #print(i,\"here1\")\n",
    "        user_checkins[u[i]-1]=np.array(user_checkins[u[i]-1])[0,:,:].T\n",
    "        #print(i,\"here2\")\n",
    "        user_checkins[u[i]-1].astype(np.int64)\n",
    "        ini_val=ini_val+counters[i,0]\n",
    "        user_checkins_counter[u[i]-1]=counters[i].astype(np.int64)\n",
    "        #print(i,\"here3\")\n"
   ]
  },
  {
   "cell_type": "code",
   "execution_count": 13,
   "metadata": {},
   "outputs": [
    {
     "name": "stdout",
     "output_type": "stream",
     "text": [
      "8\n"
     ]
    }
   ],
   "source": [
    "print(len(user_checkins))"
   ]
  },
  {
   "cell_type": "code",
   "execution_count": 14,
   "metadata": {},
   "outputs": [
    {
     "name": "stdout",
     "output_type": "stream",
     "text": [
      "user_checkins_counter [[1]\n",
      " [1]\n",
      " [1]\n",
      " [1]\n",
      " [1]\n",
      " [1]\n",
      " [1]\n",
      " [1]]\n"
     ]
    }
   ],
   "source": [
    "#print(\"user_checkins\",user_checkins)\n",
    "print(\"user_checkins_counter\",user_checkins_counter)"
   ]
  },
  {
   "cell_type": "code",
   "execution_count": 15,
   "metadata": {},
   "outputs": [],
   "source": [
    "#trial for making walks\n",
    "\n",
    "#selected_location = list(selected_location)\n",
    "#print(selected_location)\n",
    "#k = selected_location.pop(0)\n",
    "#print(selected_location)\n",
    "#selected_location.insert(0,k)\n",
    "#print(selected_location)"
   ]
  },
  {
   "cell_type": "code",
   "execution_count": 16,
   "metadata": {},
   "outputs": [
    {
     "name": "stdout",
     "output_type": "stream",
     "text": [
      "selected_location length 8\n",
      "[[2 3 5 7 4 6 0 1]\n",
      " [7 1 2 6 0 5 4 3]\n",
      " [1 3 7 2 5 0 6 4]\n",
      " [6 1 0 2 5 7 4 3]\n",
      " [4 6 7 5 0 3 1 2]\n",
      " [5 0 3 6 7 1 4 2]\n",
      " [3 0 1 6 5 2 4 7]\n",
      " [0 3 6 7 4 5 2 1]\n",
      " [2 5 3 1 6 4 7 0]\n",
      " [7 5 0 1 2 6 3 4]\n",
      " [1 7 0 4 5 6 3 2]\n",
      " [6 4 0 7 1 2 5 3]\n",
      " [4 1 7 2 5 3 6 0]\n",
      " [5 0 2 1 7 6 3 4]\n",
      " [3 1 5 0 2 6 7 4]\n",
      " [0 6 2 4 1 5 7 3]\n",
      " [2 0 7 4 6 3 5 1]\n",
      " [7 4 2 6 5 0 1 3]\n",
      " [1 5 4 6 2 7 0 3]\n",
      " [6 2 1 5 3 0 4 7]\n",
      " [4 6 0 2 1 3 5 7]\n",
      " [5 4 6 7 2 1 3 0]\n",
      " [3 0 2 6 1 7 5 4]\n",
      " [0 4 3 5 6 7 2 1]\n",
      " [2 0 4 7 1 3 6 5]\n",
      " [7 4 5 6 0 2 3 1]\n",
      " [1 7 6 3 2 4 0 5]\n",
      " [6 0 2 7 3 4 1 5]\n",
      " [4 0 1 7 5 2 6 3]\n",
      " [5 1 3 4 2 6 7 0]\n",
      " [3 6 7 2 0 4 1 5]\n",
      " [0 4 1 3 6 7 5 2]\n",
      " [2 4 1 0 3 5 7 6]\n",
      " [7 6 3 0 4 5 2 1]\n",
      " [1 7 0 6 3 5 2 4]\n",
      " [6 3 5 0 2 4 1 7]\n",
      " [4 3 7 5 0 1 2 6]\n",
      " [5 7 3 4 6 0 1 2]\n",
      " [3 5 0 4 1 7 2 6]\n",
      " [0 4 3 2 1 6 7 5]\n",
      " [2 3 0 5 4 7 1 6]\n",
      " [7 3 6 1 0 2 4 5]\n",
      " [1 3 0 6 2 7 4 5]\n",
      " [6 0 5 3 2 1 4 7]\n",
      " [4 0 3 5 2 7 1 6]\n",
      " [5 4 6 0 7 3 1 2]\n",
      " [3 4 7 0 6 5 1 2]\n",
      " [0 2 5 7 1 4 3 6]\n",
      " [2 5 7 4 3 0 6 1]\n",
      " [7 6 0 2 4 3 5 1]\n",
      " [1 4 6 3 0 5 7 2]\n",
      " [6 4 7 3 1 2 5 0]\n",
      " [4 3 6 7 5 1 0 2]\n",
      " [5 6 0 3 1 4 2 7]\n",
      " [3 5 7 2 1 6 4 0]\n",
      " [0 6 4 1 5 7 2 3]\n",
      " [2 5 4 7 0 1 3 6]\n",
      " [7 4 6 2 1 3 5 0]\n",
      " [1 3 4 5 6 7 0 2]\n",
      " [6 1 5 7 4 0 2 3]\n",
      " [4 3 7 0 2 5 1 6]\n",
      " [5 1 7 2 3 0 4 6]\n",
      " [3 4 6 1 0 2 7 5]\n",
      " [0 4 7 5 6 1 2 3]\n",
      " [2 0 4 1 6 5 7 3]\n",
      " [7 1 2 3 0 5 6 4]\n",
      " [1 3 5 4 6 0 7 2]\n",
      " [6 3 7 2 4 0 5 1]\n",
      " [4 6 0 1 5 7 2 3]\n",
      " [5 4 7 6 1 3 0 2]\n",
      " [3 4 1 7 5 2 6 0]\n",
      " [0 5 3 2 7 1 4 6]\n",
      " [2 6 0 7 5 4 1 3]\n",
      " [7 5 2 3 1 6 0 4]\n",
      " [1 5 4 7 0 3 2 6]\n",
      " [6 5 7 0 3 1 2 4]\n",
      " [4 0 5 2 6 3 1 7]\n",
      " [5 3 4 2 6 1 7 0]\n",
      " [3 7 6 2 4 5 1 0]\n",
      " [0 4 3 1 2 7 5 6]]\n"
     ]
    }
   ],
   "source": [
    "# let's have a walk over all th locations\n",
    "import random\n",
    "\n",
    "selected_location = list(selected_location)\n",
    "num_node = len(selected_location)\n",
    "num_walk = 10\n",
    "len_walk = num_node  #has to be smaller than len(selected_location)\n",
    "print(\"selected_location length\",len(selected_location))\n",
    "walks = np.zeros((num_walk*num_node,len_walk),dtype = np.int64);\n",
    "for ww in range(num_walk):\n",
    "    for ii in range(num_node):\n",
    "        seq = np.zeros((len_walk,),dtype=int)\n",
    "        seq[0] = selected_location[ii]\n",
    "        ins_later = selected_location.pop(ii)\n",
    "        seq[1:]= np.random.choice(selected_location,len_walk-1,replace=False)  #selected nodes from selected_location without repetition\n",
    "        selected_location.insert(ii,ins_later)\n",
    "        walks[ii+(ww-1)*num_node,:] = seq\n",
    "        \n",
    "#preprocessing for removing 0 quantities\n",
    "for i in range(walks.shape[0]):\n",
    "    for j in range(walks.shape[1]):\n",
    "        walks[i,j] = walks[i,j] +1\n",
    "#print(min(map(min, walks))) #should be 1 and 4024\n",
    "\n",
    "\n",
    "#saving these numbers in walk are creating out of index problem for embedding.py \n",
    "walks = walks - min(map(min, walks))\n",
    "\n",
    "print(walks)"
   ]
  },
  {
   "cell_type": "code",
   "execution_count": 17,
   "metadata": {},
   "outputs": [
    {
     "name": "stdout",
     "output_type": "stream",
     "text": [
      "temptab  Counter({5: 1, 3: 1, 8: 1, 6: 1, 7: 1, 4: 1, 1: 1, 2: 1}) 8\n"
     ]
    }
   ],
   "source": [
    "# 4. prepare negative sample table in advance (fast)\n",
    "# location relationship\n",
    "from collections import Counter\n",
    "\n",
    "temptab = Counter(selected_checkins[:,0]) #len(temptab) = size(tab_degree,1) #Counter gives unique elements in r and their freq\n",
    "print(\"temptab \",temptab,len(temptab))\n",
    "tab2= [[] for _ in range(len(temptab))]\n",
    "\n",
    "ind=0\n",
    "for i in temptab:\n",
    "    #print(i,temptab[i])\n",
    "    tab2[ind].append(temptab[i])\n",
    "tab2=np.array(tab2[:][0]) #when printing temptab, not in asc. order but here it becomes asc. wrt keys\n",
    "\n",
    "tab1=np.unique(selected_checkins[:,0])\n",
    "tab3=[[] for _ in range(len(tab1))]\n",
    "tot=sum(tab2)\n",
    "for i in range(len(tab1)):\n",
    "    tab3[i]=round((tab2[i]*100)/tot,4)\n",
    "tab_degree=np.stack((tab1,tab2,tab3),axis=1) # equivalent of tab_degree = tabulate(r) in MATLAB\n",
    "\n",
    "freq = np.array([round(np.power(i,0.75),4) for i in tab_degree[:,2]] )\n",
    "\n",
    "den=float(sum(freq))\n",
    "\n",
    "neg_sam_table_social = np.repeat((1+tab_degree[:,0]),np.around(1000000*freq/sum(freq)).astype(np.int64))\n",
    "neg_sam_table_social=neg_sam_table_social.astype(np.int64) # unigram with 0.75 power\n",
    "#neg_sam_table_social[740] check for debugging\n",
    "del temptab,tab1,tab2,tab3,tab_degree,freq,den\n"
   ]
  },
  {
   "cell_type": "code",
   "execution_count": 18,
   "metadata": {},
   "outputs": [],
   "source": [
    "#uncomment for debugging\n",
    "#trii = Counter(neg_sam_table_social)\n",
    "#print(trii)"
   ]
  },
  {
   "cell_type": "code",
   "execution_count": 19,
   "metadata": {},
   "outputs": [
    {
     "name": "stdout",
     "output_type": "stream",
     "text": [
      "[1 1 1 ... 8 8 8]\n",
      "[ 9  9  9 ... 16 16 16]\n",
      "[17 17 17 ... 24 24 24]\n",
      "[25 25 25 ... 32 32 32]\n"
     ]
    }
   ],
   "source": [
    "#selected_checkins (4 columns): user_index, time (hour in a week), venue_index, venue_category_index\n",
    "\n",
    "neg_sam_table_mobility_norm = [[] for _ in range(4)]\n",
    "for ii in range(len(neg_sam_table_mobility_norm)):\n",
    "    tab1=np.array([elem for elem in range(max(temp_checkins[:,ii]))])#tab1 has all elements;even with frequency 0\n",
    "    #temp_checkins is basically array version of selected_checkins\n",
    "    temptab = Counter(temp_checkins[:,ii]) #correct\n",
    "    tab2= np.zeros((len(tab1),))\n",
    "    for i in tab1:\n",
    "        tab2[i]= temptab[i+1] #because in python, index starts from 0\n",
    "    tab2 = np.array(tab2)\n",
    "    tot=np.sum(tab2)\n",
    "    tab3=np.zeros((len(tab1),))\n",
    "    for i in range(len(tab1)):\n",
    "        tab3[i]= np.round((tab2[i]*100)/tot,4) if (tot) else 0\n",
    "    tab3=np.array(tab3)\n",
    "    tab_degree=np.stack((tab1,tab2,tab3),axis=1)\n",
    "    freq = np.array([np.round(np.power(i,0.75),4) for i in tab_degree[:,2]])\n",
    "    den=float(sum(freq))\n",
    "    ingoes = np.repeat((tab_degree[:,0]+1),np.around(100000*freq/sum(freq)).astype(np.int64))\n",
    "    neg_sam_table_mobility_norm[ii].append(ingoes)\n",
    "\n",
    "    del tab1,tab2,i,tab3,tab_degree,freq,ingoes,tot\n",
    "\n",
    "neg_sam_table_mobility_norm = [np.array(x).astype(np.int64) for x in neg_sam_table_mobility_norm]\n",
    "\n",
    "#neg_sam_table_mobility1 = neg_sam_table_mobility_norm[3][0]\n",
    "#neg_sam_table_mobility1[5]\n",
    "print(neg_sam_table_mobility_norm[0][0])\n",
    "print(neg_sam_table_mobility_norm[1][0])\n",
    "print(neg_sam_table_mobility_norm[2][0])\n",
    "print(neg_sam_table_mobility_norm[3][0])"
   ]
  },
  {
   "cell_type": "code",
   "execution_count": 20,
   "metadata": {},
   "outputs": [],
   "source": [
    "# LBSN2vec\n",
    "dim_emb = 2 #128\n",
    "num_epoch = 1\n",
    "num_threads =  4\n",
    "K_neg = 3 #10\n",
    "win_size = 2 #10\n",
    "learning_rate = 0.001\n",
    "\n",
    "embs_ini = (np.random.uniform(size=(num_node_total,dim_emb))-0.5)/dim_emb \n",
    "temp = np.sum(np.power(embs_ini,2),axis=1)\n",
    "embs_len = np.power(temp,0.5)\n",
    "den = embs_len\n",
    "for i in range(dim_emb-1):\n",
    "    den=np.vstack((den,embs_len))\n",
    "den=den.T\n",
    "#print(den.shape)\n",
    "#print(embs_ini.shape)\n",
    "embs_ini = np.divide(embs_ini,den)\n",
    "\n",
    "mobility_ratio = 0.2"
   ]
  },
  {
   "cell_type": "code",
   "execution_count": 21,
   "metadata": {},
   "outputs": [
    {
     "name": "stdout",
     "output_type": "stream",
     "text": [
      "this is num_w 80\n",
      "this is num_wl 8\n",
      "This is epoch  0\n"
     ]
    }
   ],
   "source": [
    "import learn_LBSN2Vec_embedding\n",
    "\n",
    "embs = learn_LBSN2Vec_embedding.driver_fn(walks.T,user_checkins, user_checkins_counter,embs_ini.T,learning_rate, \n",
    "                                K_neg,neg_sam_table_social, win_size, neg_sam_table_mobility_norm,\n",
    "                                num_epoch, mobility_ratio);"
   ]
  },
  {
   "cell_type": "code",
   "execution_count": 22,
   "metadata": {},
   "outputs": [
    {
     "name": "stdout",
     "output_type": "stream",
     "text": [
      "(2, 32)\n",
      "1\n",
      "32\n",
      "(8, 4)\n",
      "this is range of user 1\n",
      "this is range of user 8\n",
      "this is range of time 9\n",
      "this is range of time 16\n",
      "this is range of venue_index 17\n",
      "this is range of venue_index 24\n",
      "this is range of venue_category_index 25\n",
      "this is range of venue_category_index 32\n"
     ]
    }
   ],
   "source": [
    "print(embs.shape)\n",
    "print(np.min(temp_checkins))\n",
    "print(np.max(temp_checkins))\n",
    "print(temp_checkins.shape)\n",
    "print(\"this is range of user \"+ str(min(temp_checkins[:,0])))\n",
    "print(\"this is range of user \"+ str(max(temp_checkins[:,0])))\n",
    "print(\"this is range of time \"+ str(min(temp_checkins[:,1])))\n",
    "print(\"this is range of time \"+ str(max(temp_checkins[:,1])))\n",
    "print(\"this is range of venue_index \"+ str(min(temp_checkins[:,2])))\n",
    "print(\"this is range of venue_index \"+ str(max(temp_checkins[:,2])))\n",
    "print(\"this is range of venue_category_index \"+ str(min(temp_checkins[:,3])))\n",
    "print(\"this is range of venue_category_index \"+ str(max(temp_checkins[:,3])))"
   ]
  },
  {
   "cell_type": "code",
   "execution_count": 23,
   "metadata": {},
   "outputs": [
    {
     "name": "stdout",
     "output_type": "stream",
     "text": [
      "[[-0.94214595  0.3352052 ]\n",
      " [ 0.62868589 -0.7776605 ]\n",
      " [-0.99091955 -0.13447322]\n",
      " [-0.88244842  0.47041647]\n",
      " [ 0.4221045   0.90654966]\n",
      " [ 0.29087344  0.95676307]\n",
      " [ 0.12909715  0.99163368]\n",
      " [-0.56441505  0.8254927 ]\n",
      " [ 0.64552621  0.76373942]\n",
      " [-0.86800778  0.49655059]\n",
      " [-0.30116521 -0.95357201]\n",
      " [-0.98869561  0.14994609]\n",
      " [ 0.25913871 -0.96584011]\n",
      " [ 0.91822673 -0.39605628]\n",
      " [ 0.14241592  0.98980698]\n",
      " [-0.53002075 -0.84798468]\n",
      " [ 0.571388   -0.82068082]\n",
      " [-0.59751385 -0.80185859]\n",
      " [-0.56986126 -0.82174092]\n",
      " [-0.88861339  0.45865809]\n",
      " [-0.94637253  0.32307893]\n",
      " [ 0.55865717 -0.82939942]\n",
      " [-0.58492623 -0.81108665]\n",
      " [ 0.12412202  0.99226696]\n",
      " [-0.53841734 -0.84267845]\n",
      " [-0.51419424 -0.85767387]\n",
      " [-0.07160606 -0.99743299]\n",
      " [-0.98032884 -0.19737253]\n",
      " [-0.837948   -0.54575026]\n",
      " [-0.23963498 -0.97086307]\n",
      " [-0.27178587 -0.96235779]\n",
      " [-0.57367882  0.81908067]]\n"
     ]
    }
   ],
   "source": [
    "#normalizing\n",
    "\n",
    "twodemb = np.zeros((embs.shape[1],2))\n",
    "for i in range(twodemb.shape[0]):\n",
    "    twodemb[i,0] = embs[0,i]\n",
    "    twodemb[i,1] = embs[1,i]\n",
    "\n",
    "print(twodemb)"
   ]
  },
  {
   "cell_type": "code",
   "execution_count": 24,
   "metadata": {},
   "outputs": [
    {
     "name": "stdout",
     "output_type": "stream",
     "text": [
      "this is count 0\n",
      "this is count fraction 0.0\n",
      "time taken is  0.04414224624633789\n"
     ]
    }
   ],
   "source": [
    "#location prediction on the learnt embeddings\n",
    "from scipy.spatial import distance\n",
    "import time\n",
    "\n",
    "count = 0\n",
    "\n",
    "start_time = time.time()\n",
    "for d in range(selected_checkins.shape[0]):\n",
    "    test = selected_checkins[d]\n",
    "    user = test[0]\n",
    "    hour = test[1]\n",
    "    dist = []\n",
    "    \n",
    "    for i in range(min(selected_checkins[:,2]),max(selected_checkins[:,2])+1):\n",
    "        summ = (1 - distance.cosine(twodemb[user-1,:],twodemb[i-1,:]))+(1 - distance.cosine(twodemb[hour-1,:],twodemb[i-1,:]))\n",
    "        dist.append((abs(summ),i))\n",
    "        \n",
    "    dist = sorted(dist, key=lambda student: student[0])\n",
    "    if test[3] in (np.array(dist[0:10])[:,1]):\n",
    "        count+=1\n",
    "print(\"this is count \"+str(count))\n",
    "print(\"this is count fraction \"+str(count/selected_checkins.shape[0]))\n",
    "print(\"time taken is \",(time.time() - start_time))\n"
   ]
  },
  {
   "cell_type": "code",
   "execution_count": null,
   "metadata": {},
   "outputs": [],
   "source": []
  }
 ],
 "metadata": {
  "kernelspec": {
   "display_name": "Python 3",
   "language": "python",
   "name": "python3"
  },
  "language_info": {
   "codemirror_mode": {
    "name": "ipython",
    "version": 3
   },
   "file_extension": ".py",
   "mimetype": "text/x-python",
   "name": "python",
   "nbconvert_exporter": "python",
   "pygments_lexer": "ipython3",
   "version": "3.6.12"
  }
 },
 "nbformat": 4,
 "nbformat_minor": 2
}
