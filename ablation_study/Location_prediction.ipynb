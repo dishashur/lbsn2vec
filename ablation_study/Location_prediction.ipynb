{
 "cells": [
  {
   "cell_type": "code",
   "execution_count": null,
   "metadata": {},
   "outputs": [],
   "source": [
    "import numpy as np\n",
    "import scipy.io\n",
    "mat = scipy.io.loadmat('dataset_connected_NYC.mat') "
   ]
  },
  {
   "cell_type": "code",
   "execution_count": null,
   "metadata": {},
   "outputs": [],
   "source": [
    "friendship_new = mat['friendship_new']\n",
    "friendship_old = mat['friendship_old']#new_friendship_old\n",
    "selected_checkins = mat['selected_checkins'] #new_checkins\n",
    "selected_users_IDs = mat['selected_users_IDs'] #new_users_IDs"
   ]
  },
  {
   "cell_type": "code",
   "execution_count": null,
   "metadata": {},
   "outputs": [],
   "source": [
    "# 1. rebuild node index\n",
    "offset1 = max(selected_checkins[:,0]);\n",
    "dumy, dumy, n = np.unique(selected_checkins[:,1],return_index=True,return_inverse=True, axis=0)\n",
    "\n",
    "\n",
    "selected_checkins[:,1] = n+1#+offset1; #n is the indices of the unique values in selected_checkins[:,1]\n",
    "offset2 = max(selected_checkins[:,1]);\n",
    "dumy, dumy, n = np.unique(selected_checkins[:,2],return_index=True,return_inverse=True, axis=0)\n",
    "\n",
    "selected_checkins[:,2] = n+1#+offset2;\n",
    "offset3 = max(selected_checkins[:,2]);\n",
    "dumy, dumy, n = np.unique(selected_checkins[:,3],return_index=True,return_inverse=True, axis=0)\n",
    "selected_checkins[:,3] = n+1#+offset3;\n",
    "\n",
    "num_node_total = max(map(max, selected_checkins)) #max of the entire matrix = 8117"
   ]
  },
  {
   "cell_type": "code",
   "execution_count": null,
   "metadata": {},
   "outputs": [],
   "source": [
    "#verify sequence\n",
    "selected_checkins-=1\n",
    "print(selected_checkins.shape)\n",
    "print(min(selected_checkins[:,0]))\n",
    "print(max(selected_checkins[:,0]))\n",
    "print(min(selected_checkins[:,1]))\n",
    "print(max(selected_checkins[:,1]))\n",
    "print(min(selected_checkins[:,2]))\n",
    "print(max(selected_checkins[:,2]))\n",
    "print(min(selected_checkins[:,3]))\n",
    "print(max(selected_checkins[:,3]))\n"
   ]
  },
  {
   "cell_type": "code",
   "execution_count": null,
   "metadata": {},
   "outputs": [],
   "source": [
    "num_of_users = max(selected_checkins[:,0])\n",
    "num_of_time = max(selected_checkins[:,1])\n",
    "num_of_venues = max(selected_checkins[:,2])\n",
    "num_of_categories = max(selected_checkins[:,3])"
   ]
  },
  {
   "cell_type": "code",
   "execution_count": null,
   "metadata": {},
   "outputs": [],
   "source": [
    "print(num_of_users)\n",
    "print(num_of_time)\n",
    "print(num_of_venues)\n",
    "print(num_of_categories)"
   ]
  },
  {
   "cell_type": "code",
   "execution_count": null,
   "metadata": {},
   "outputs": [],
   "source": [
    "#separating training and testing data\n",
    "train_size = int((80/100)*np.size(selected_checkins,0))\n",
    "train_data = selected_checkins[:train_size]\n",
    "nums_type = np.array([num_of_users+1, num_of_time+1, num_of_venues+1, num_of_categories+1])\n",
    "test_data = selected_checkins[train_size:]\n",
    "#data = {'train_data':train_data,'test_data':test_data,'num_types':num_types}"
   ]
  },
  {
   "cell_type": "code",
   "execution_count": null,
   "metadata": {},
   "outputs": [],
   "source": [
    "np.savez_compressed('lbsndata/train_data.npz', train_data = train_data, nums_type = nums_type)\n",
    "np.savez_compressed('lbsndata/test_data.npz', test_data = test_data, nums_type = nums_type)\n"
   ]
  },
  {
   "cell_type": "code",
   "execution_count": null,
   "metadata": {},
   "outputs": [],
   "source": [
    "print(train_data.shape)"
   ]
  },
  {
   "cell_type": "code",
   "execution_count": null,
   "metadata": {
    "scrolled": true
   },
   "outputs": [],
   "source": [
    "#selected_checkins format -\n",
    "#selected_checkins (4 columns): user_index, time (hour in a week), venue_index, venue_category_index\n",
    "#feeding it as it is to DHNE\n",
    "\n",
    "#run hypergraph_embedding.py --data_path lbsndata --save_path lbsnresult -s '10 10 10 10' -e 2\n",
    "!bash run_dhne.sh"
   ]
  },
  {
   "cell_type": "code",
   "execution_count": null,
   "metadata": {
    "scrolled": true
   },
   "outputs": [],
   "source": [
    "#embeddings are stored in lbsnresult/model_(embedding_size)_(hidden_size)_(epochs)_(batch_size)_(learn-\n",
    "# ing_rate)_(neg_sam)/embeddings.npy\n",
    "#corresponding model stored in lbsnresult/model_(no.ofemneddings)/model.h5\n",
    "\n",
    "embed = np.load('lbsnresult/model_100/embeddings.npy')\n",
    "print(embed.shape)\n",
    "print('embed[0].shape',embed[0].shape)\n",
    "print('embed[1].shape',embed[1].shape)\n",
    "print('embed[2].shape',embed[2].shape)\n",
    "print('embed[3].shape',embed[3].shape)"
   ]
  },
  {
   "cell_type": "code",
   "execution_count": null,
   "metadata": {
    "scrolled": true
   },
   "outputs": [],
   "source": [
    "#location prediction on the learnt embeddings\n",
    "#selected_checkins (4 columns): user_index, time (hour in a week), venue_index, venue_category_index\n",
    "import time as tm\n",
    "from scipy.spatial import distance\n",
    "\n",
    "count = 0\n",
    "\n",
    "start = tm.time()\n",
    "for d in range(test_data.shape[0]):\n",
    "    test = test_data[d]\n",
    "    user = test[0]\n",
    "    time = test[1]\n",
    "    dist = []\n",
    "    \n",
    "    for i in range(min(test_data[:,2]),max(test_data[:,2])+1):\n",
    "        summ = (1 - distance.cosine(embed[0][user],embed[2][i]))+(1 - distance.cosine(embed[1][time],embed[2][i]))\n",
    "        dist.append((abs(summ),i))\n",
    "        \n",
    "    dist = sorted(dist, key=lambda student: student[0])\n",
    "    if test[2] in (np.array(dist[0:20])[:,1]):\n",
    "        count+=1\n",
    "        \n",
    "ending = tm.time()\n",
    "\n",
    "print(\"this is count \",count)\n",
    "print(\"this is count fraction \",count/test_data.shape[0])\n",
    "print(\"time lapsed \",ending-start)"
   ]
  },
  {
   "cell_type": "code",
   "execution_count": null,
   "metadata": {},
   "outputs": [],
   "source": []
  }
 ],
 "metadata": {
  "kernelspec": {
   "display_name": "Python 3",
   "language": "python",
   "name": "python3"
  },
  "language_info": {
   "codemirror_mode": {
    "name": "ipython",
    "version": 3
   },
   "file_extension": ".py",
   "mimetype": "text/x-python",
   "name": "python",
   "nbconvert_exporter": "python",
   "pygments_lexer": "ipython3",
   "version": "3.6.12"
  }
 },
 "nbformat": 4,
 "nbformat_minor": 2
}
