{
 "cells": [
  {
   "cell_type": "code",
   "execution_count": 1,
   "metadata": {},
   "outputs": [],
   "source": [
    "import numpy as np\n",
    "import scipy.io\n",
    "mat = scipy.io.loadmat('dataset_connected_NYC.mat') "
   ]
  },
  {
   "cell_type": "code",
   "execution_count": 2,
   "metadata": {},
   "outputs": [],
   "source": [
    "friendship_new = mat['friendship_new']\n",
    "friendship_old = mat['friendship_old']#new_friendship_old\n",
    "selected_checkins = mat['selected_checkins'] #new_checkins\n",
    "selected_users_IDs = mat['selected_users_IDs'] #new_users_IDs"
   ]
  },
  {
   "cell_type": "code",
   "execution_count": 3,
   "metadata": {},
   "outputs": [],
   "source": [
    "# 1. rebuild node index\n",
    "offset1 = max(selected_checkins[:,0]);\n",
    "dumy, dumy, n = np.unique(selected_checkins[:,1],return_index=True,return_inverse=True, axis=0)\n",
    "\n",
    "\n",
    "selected_checkins[:,1] = n+1#+offset1; #n is the indices of the unique values in selected_checkins[:,1]\n",
    "offset2 = max(selected_checkins[:,1]);\n",
    "dumy, dumy, n = np.unique(selected_checkins[:,2],return_index=True,return_inverse=True, axis=0)\n",
    "\n",
    "selected_checkins[:,2] = n+1#+offset2;\n",
    "offset3 = max(selected_checkins[:,2]);\n",
    "dumy, dumy, n = np.unique(selected_checkins[:,3],return_index=True,return_inverse=True, axis=0)\n",
    "selected_checkins[:,3] = n+1#+offset3;\n",
    "\n",
    "num_node_total = max(map(max, selected_checkins)) #max of the entire matrix = 8117"
   ]
  },
  {
   "cell_type": "code",
   "execution_count": 4,
   "metadata": {},
   "outputs": [
    {
     "name": "stdout",
     "output_type": "stream",
     "text": [
      "(105961, 4)\n",
      "0\n",
      "4023\n",
      "0\n",
      "167\n",
      "0\n",
      "3627\n",
      "0\n",
      "299\n"
     ]
    }
   ],
   "source": [
    "#verify sequence\n",
    "selected_checkins-=1\n",
    "print(selected_checkins.shape)\n",
    "print(min(selected_checkins[:,0]))\n",
    "print(max(selected_checkins[:,0]))\n",
    "print(min(selected_checkins[:,1]))\n",
    "print(max(selected_checkins[:,1]))\n",
    "print(min(selected_checkins[:,2]))\n",
    "print(max(selected_checkins[:,2]))\n",
    "print(min(selected_checkins[:,3]))\n",
    "print(max(selected_checkins[:,3]))\n"
   ]
  },
  {
   "cell_type": "code",
   "execution_count": 5,
   "metadata": {},
   "outputs": [],
   "source": [
    "num_of_users = max(selected_checkins[:,0])\n",
    "num_of_time = max(selected_checkins[:,1])\n",
    "num_of_venues = max(selected_checkins[:,2])\n",
    "num_of_categories = max(selected_checkins[:,3])"
   ]
  },
  {
   "cell_type": "code",
   "execution_count": 6,
   "metadata": {},
   "outputs": [
    {
     "name": "stdout",
     "output_type": "stream",
     "text": [
      "4023\n",
      "167\n",
      "3627\n",
      "299\n"
     ]
    }
   ],
   "source": [
    "print(num_of_users)\n",
    "print(num_of_time)\n",
    "print(num_of_venues)\n",
    "print(num_of_categories)"
   ]
  },
  {
   "cell_type": "code",
   "execution_count": 7,
   "metadata": {},
   "outputs": [],
   "source": [
    "#separating training and testing data\n",
    "train_size = int((80/100)*np.size(selected_checkins,0))\n",
    "train_data = selected_checkins[:train_size]\n",
    "nums_type = np.array([num_of_users+1, num_of_time+1, num_of_venues+1, num_of_categories+1])\n",
    "test_data = selected_checkins[train_size:]\n",
    "#data = {'train_data':train_data,'test_data':test_data,'num_types':num_types}"
   ]
  },
  {
   "cell_type": "code",
   "execution_count": 8,
   "metadata": {},
   "outputs": [],
   "source": [
    "np.savez_compressed('lbsndata/train_data.npz', train_data = train_data, nums_type = nums_type)\n",
    "np.savez_compressed('lbsndata/test_data.npz', test_data = test_data, nums_type = nums_type)\n"
   ]
  },
  {
   "cell_type": "code",
   "execution_count": 9,
   "metadata": {},
   "outputs": [
    {
     "name": "stdout",
     "output_type": "stream",
     "text": [
      "(84768, 4)\n"
     ]
    }
   ],
   "source": [
    "print(train_data.shape)"
   ]
  },
  {
   "cell_type": "code",
   "execution_count": 10,
   "metadata": {
    "scrolled": true
   },
   "outputs": [
    {
     "name": "stderr",
     "output_type": "stream",
     "text": [
      "Using TensorFlow backend.\n"
     ]
    },
    {
     "name": "stdout",
     "output_type": "stream",
     "text": [
      "this is args\n",
      "Namespace(alpha=1, batch_size=16, data_path='lbsndata', embedding_size=[100, 100, 100, 100], epochs_to_train=50, hidden_size=64, learning_rate=0.01, num_neg_samples=5, options=None, prefix_path='model', save_path='lbsnresult', seed=None)\n",
      "train_data.edge [[1800   38  983   61]\n",
      " [ 104   38  395   27]\n",
      " [ 570   38  343  234]\n",
      " ...\n",
      " [1106  139  368  153]\n",
      " [2514  139 2174  150]\n",
      " [2668  139 3077  292]]\n",
      "train_data.nums_type [4024  168 3628  300]\n",
      "4023 , 4024\n",
      "167 , 168\n",
      "3613 , 3628\n",
      "297 , 300\n",
      "WARNING:tensorflow:From /home/disha/anaconda3/lib/python3.6/site-packages/tensorflow/python/framework/op_def_library.py:263: colocate_with (from tensorflow.python.framework.ops) is deprecated and will be removed in a future version.\n",
      "Instructions for updating:\n",
      "Colocations handled automatically by placer.\n",
      "__________________________________________________________________________________________________\n",
      "Layer (type)                    Output Shape         Param #     Connected to                     \n",
      "==================================================================================================\n",
      "input_0 (InputLayer)            (None, 4096)         0                                            \n",
      "__________________________________________________________________________________________________\n",
      "input_1 (InputLayer)            (None, 7952)         0                                            \n",
      "__________________________________________________________________________________________________\n",
      "input_2 (InputLayer)            (None, 4492)         0                                            \n",
      "__________________________________________________________________________________________________\n",
      "input_3 (InputLayer)            (None, 7820)         0                                            \n",
      "__________________________________________________________________________________________________\n",
      "encode_0 (Dense)                (None, 100)          409700      input_0[0][0]                    \n",
      "__________________________________________________________________________________________________\n",
      "encode_1 (Dense)                (None, 100)          795300      input_1[0][0]                    \n",
      "__________________________________________________________________________________________________\n",
      "encode_2 (Dense)                (None, 100)          449300      input_2[0][0]                    \n",
      "__________________________________________________________________________________________________\n",
      "encode_3 (Dense)                (None, 100)          782100      input_3[0][0]                    \n",
      "__________________________________________________________________________________________________\n",
      "concatenate_1 (Concatenate)     (None, 400)          0           encode_0[0][0]                   \n",
      "                                                                 encode_1[0][0]                   \n",
      "                                                                 encode_2[0][0]                   \n",
      "                                                                 encode_3[0][0]                   \n",
      "__________________________________________________________________________________________________\n",
      "full_connected_layer (Dense)    (None, 64)           25664       concatenate_1[0][0]              \n",
      "__________________________________________________________________________________________________\n",
      "decode_0 (Dense)                (None, 4096)         413696      encode_0[0][0]                   \n",
      "__________________________________________________________________________________________________\n",
      "decode_1 (Dense)                (None, 7952)         803152      encode_1[0][0]                   \n",
      "__________________________________________________________________________________________________\n",
      "decode_2 (Dense)                (None, 4492)         453692      encode_2[0][0]                   \n",
      "__________________________________________________________________________________________________\n",
      "decode_3 (Dense)                (None, 7820)         789820      encode_3[0][0]                   \n",
      "__________________________________________________________________________________________________\n",
      "classify_layer (Dense)          (None, 1)            65          full_connected_layer[0][0]       \n",
      "==================================================================================================\n",
      "Total params: 4,922,489\n",
      "Trainable params: 4,922,489\n",
      "Non-trainable params: 0\n",
      "__________________________________________________________________________________________________\n",
      "WARNING:tensorflow:From /home/disha/anaconda3/lib/python3.6/site-packages/tensorflow/python/ops/math_ops.py:3066: to_int32 (from tensorflow.python.ops.math_ops) is deprecated and will be removed in a future version.\n",
      "Instructions for updating:\n",
      "Use tf.cast instead.\n",
      "Epoch 1/50\n",
      "5298/5298 [==============================] - 561s 106ms/step - loss: 0.4415 - decode_0_loss: 3.2920e-04 - decode_1_loss: 0.0040 - decode_2_loss: 1.6294e-04 - decode_3_loss: 5.0430e-04 - classify_layer_loss: 0.4365 - decode_0_mean_squared_error: 0.3263 - decode_1_mean_squared_error: 0.4522 - decode_2_mean_squared_error: 0.4430 - decode_3_mean_squared_error: 0.6748 - classify_layer_acc: 0.8325 - val_loss: 0.4763 - val_decode_0_loss: 1.1909e-04 - val_decode_1_loss: 0.0041 - val_decode_2_loss: 7.6765e-05 - val_decode_3_loss: 2.5637e-04 - val_classify_layer_loss: 0.4718 - val_decode_0_mean_squared_error: 0.3044 - val_decode_1_mean_squared_error: 0.4393 - val_decode_2_mean_squared_error: 0.4753 - val_decode_3_mean_squared_error: 0.6836 - val_classify_layer_acc: 0.8333\n",
      "Epoch 2/50\n",
      "5298/5298 [==============================] - 643s 121ms/step - loss: 0.4382 - decode_0_loss: 1.8332e-04 - decode_1_loss: 0.0016 - decode_2_loss: 1.1465e-04 - decode_3_loss: 3.1810e-04 - classify_layer_loss: 0.4360 - decode_0_mean_squared_error: 0.3234 - decode_1_mean_squared_error: 0.4473 - decode_2_mean_squared_error: 0.4795 - decode_3_mean_squared_error: 0.6724 - classify_layer_acc: 0.8343 - val_loss: 0.4406 - val_decode_0_loss: 1.8994e-04 - val_decode_1_loss: 0.0013 - val_decode_2_loss: 1.8577e-04 - val_decode_3_loss: 4.0476e-04 - val_classify_layer_loss: 0.4385 - val_decode_0_mean_squared_error: 0.3091 - val_decode_1_mean_squared_error: 0.4300 - val_decode_2_mean_squared_error: 0.4762 - val_decode_3_mean_squared_error: 0.6358 - val_classify_layer_acc: 0.8333\n",
      "Epoch 3/50\n",
      "5298/5298 [==============================] - 680s 128ms/step - loss: 0.4250 - decode_0_loss: 1.9201e-04 - decode_1_loss: 7.8419e-04 - decode_2_loss: 1.0617e-04 - decode_3_loss: 2.4086e-04 - classify_layer_loss: 0.4237 - decode_0_mean_squared_error: 0.3266 - decode_1_mean_squared_error: 0.4393 - decode_2_mean_squared_error: 0.4861 - decode_3_mean_squared_error: 0.6510 - classify_layer_acc: 0.8378 - val_loss: 0.4085 - val_decode_0_loss: 1.3230e-04 - val_decode_1_loss: 8.1835e-04 - val_decode_2_loss: 7.7653e-05 - val_decode_3_loss: 3.1600e-04 - val_classify_layer_loss: 0.4071 - val_decode_0_mean_squared_error: 0.2994 - val_decode_1_mean_squared_error: 0.4573 - val_decode_2_mean_squared_error: 0.4811 - val_decode_3_mean_squared_error: 0.6878 - val_classify_layer_acc: 0.8333\n",
      "Epoch 4/50\n",
      "5298/5298 [==============================] - 687s 130ms/step - loss: 0.4173 - decode_0_loss: 1.8799e-04 - decode_1_loss: 6.0111e-04 - decode_2_loss: 1.0130e-04 - decode_3_loss: 2.1686e-04 - classify_layer_loss: 0.4162 - decode_0_mean_squared_error: 0.3315 - decode_1_mean_squared_error: 0.4470 - decode_2_mean_squared_error: 0.4926 - decode_3_mean_squared_error: 0.5957 - classify_layer_acc: 0.8393 - val_loss: 0.4279 - val_decode_0_loss: 1.4701e-04 - val_decode_1_loss: 0.0011 - val_decode_2_loss: 5.8882e-05 - val_decode_3_loss: 1.3740e-04 - val_classify_layer_loss: 0.4265 - val_decode_0_mean_squared_error: 0.3084 - val_decode_1_mean_squared_error: 0.4418 - val_decode_2_mean_squared_error: 0.4898 - val_decode_3_mean_squared_error: 0.5544 - val_classify_layer_acc: 0.8333\n",
      "Epoch 5/50\n",
      "5298/5298 [==============================] - 648s 122ms/step - loss: 0.4119 - decode_0_loss: 1.8221e-04 - decode_1_loss: 5.4831e-04 - decode_2_loss: 1.0169e-04 - decode_3_loss: 2.0739e-04 - classify_layer_loss: 0.4108 - decode_0_mean_squared_error: 0.3341 - decode_1_mean_squared_error: 0.4283 - decode_2_mean_squared_error: 0.4937 - decode_3_mean_squared_error: 0.5204 - classify_layer_acc: 0.8400 - val_loss: 0.4251 - val_decode_0_loss: 1.6977e-04 - val_decode_1_loss: 6.4550e-04 - val_decode_2_loss: 1.6158e-04 - val_decode_3_loss: 1.5197e-04 - val_classify_layer_loss: 0.4239 - val_decode_0_mean_squared_error: 0.3075 - val_decode_1_mean_squared_error: 0.4492 - val_decode_2_mean_squared_error: 0.4814 - val_decode_3_mean_squared_error: 0.5123 - val_classify_layer_acc: 0.8333\n",
      "Epoch 6/50\n",
      "5298/5298 [==============================] - 652s 123ms/step - loss: 0.4063 - decode_0_loss: 1.8173e-04 - decode_1_loss: 4.4197e-04 - decode_2_loss: 9.7382e-05 - decode_3_loss: 1.9304e-04 - classify_layer_loss: 0.4054 - decode_0_mean_squared_error: 0.3333 - decode_1_mean_squared_error: 0.4356 - decode_2_mean_squared_error: 0.4940 - decode_3_mean_squared_error: 0.5344 - classify_layer_acc: 0.8419 - val_loss: 0.4132 - val_decode_0_loss: 1.5675e-04 - val_decode_1_loss: 3.5202e-04 - val_decode_2_loss: 6.8662e-05 - val_decode_3_loss: 1.2451e-04 - val_classify_layer_loss: 0.4125 - val_decode_0_mean_squared_error: 0.3267 - val_decode_1_mean_squared_error: 0.3598 - val_decode_2_mean_squared_error: 0.4850 - val_decode_3_mean_squared_error: 0.5112 - val_classify_layer_acc: 0.8333\n",
      "Epoch 7/50\n",
      "5298/5298 [==============================] - 652s 123ms/step - loss: 0.3989 - decode_0_loss: 1.8615e-04 - decode_1_loss: 4.0583e-04 - decode_2_loss: 9.4631e-05 - decode_3_loss: 1.7715e-04 - classify_layer_loss: 0.3980 - decode_0_mean_squared_error: 0.3355 - decode_1_mean_squared_error: 0.4240 - decode_2_mean_squared_error: 0.4935 - decode_3_mean_squared_error: 0.5269 - classify_layer_acc: 0.8432 - val_loss: 0.4368 - val_decode_0_loss: 1.6099e-04 - val_decode_1_loss: 4.6694e-04 - val_decode_2_loss: 6.3944e-05 - val_decode_3_loss: 2.9952e-04 - val_classify_layer_loss: 0.4358 - val_decode_0_mean_squared_error: 0.3255 - val_decode_1_mean_squared_error: 0.3647 - val_decode_2_mean_squared_error: 0.4892 - val_decode_3_mean_squared_error: 0.5720 - val_classify_layer_acc: 0.8021\n",
      "Epoch 8/50\n",
      "5298/5298 [==============================] - 630s 119ms/step - loss: 0.3954 - decode_0_loss: 1.8800e-04 - decode_1_loss: 3.8731e-04 - decode_2_loss: 9.1493e-05 - decode_3_loss: 1.7849e-04 - classify_layer_loss: 0.3946 - decode_0_mean_squared_error: 0.3378 - decode_1_mean_squared_error: 0.4168 - decode_2_mean_squared_error: 0.4938 - decode_3_mean_squared_error: 0.5471 - classify_layer_acc: 0.8442 - val_loss: 0.4149 - val_decode_0_loss: 1.3715e-04 - val_decode_1_loss: 1.9399e-04 - val_decode_2_loss: 6.0247e-05 - val_decode_3_loss: 1.2167e-04 - val_classify_layer_loss: 0.4144 - val_decode_0_mean_squared_error: 0.3445 - val_decode_1_mean_squared_error: 0.2873 - val_decode_2_mean_squared_error: 0.4943 - val_decode_3_mean_squared_error: 0.5389 - val_classify_layer_acc: 0.8229\n",
      "Epoch 9/50\n",
      "5298/5298 [==============================] - 604s 114ms/step - loss: 0.3923 - decode_0_loss: 1.8740e-04 - decode_1_loss: 3.6195e-04 - decode_2_loss: 9.1098e-05 - decode_3_loss: 1.7698e-04 - classify_layer_loss: 0.3914 - decode_0_mean_squared_error: 0.3353 - decode_1_mean_squared_error: 0.3950 - decode_2_mean_squared_error: 0.4907 - decode_3_mean_squared_error: 0.5313 - classify_layer_acc: 0.8447 - val_loss: 0.4410 - val_decode_0_loss: 1.6202e-04 - val_decode_1_loss: 2.6977e-04 - val_decode_2_loss: 5.9557e-05 - val_decode_3_loss: 2.2798e-04 - val_classify_layer_loss: 0.4403 - val_decode_0_mean_squared_error: 0.3160 - val_decode_1_mean_squared_error: 0.4465 - val_decode_2_mean_squared_error: 0.4886 - val_decode_3_mean_squared_error: 0.5412 - val_classify_layer_acc: 0.8229\n",
      "Epoch 10/50\n",
      "5298/5298 [==============================] - 618s 117ms/step - loss: 0.3928 - decode_0_loss: 1.9491e-04 - decode_1_loss: 3.5690e-04 - decode_2_loss: 9.1287e-05 - decode_3_loss: 1.8920e-04 - classify_layer_loss: 0.3919 - decode_0_mean_squared_error: 0.3367 - decode_1_mean_squared_error: 0.4125 - decode_2_mean_squared_error: 0.4861 - decode_3_mean_squared_error: 0.4630 - classify_layer_acc: 0.8451 - val_loss: 0.4055 - val_decode_0_loss: 1.7630e-04 - val_decode_1_loss: 4.5432e-04 - val_decode_2_loss: 8.3564e-05 - val_decode_3_loss: 1.6510e-04 - val_classify_layer_loss: 0.4047 - val_decode_0_mean_squared_error: 0.3338 - val_decode_1_mean_squared_error: 0.4522 - val_decode_2_mean_squared_error: 0.4904 - val_decode_3_mean_squared_error: 0.4599 - val_classify_layer_acc: 0.8333\n",
      "Epoch 11/50\n",
      "5298/5298 [==============================] - 606s 114ms/step - loss: 0.3968 - decode_0_loss: 1.8431e-04 - decode_1_loss: 3.3041e-04 - decode_2_loss: 8.9356e-05 - decode_3_loss: 1.9039e-04 - classify_layer_loss: 0.3960 - decode_0_mean_squared_error: 0.3377 - decode_1_mean_squared_error: 0.4010 - decode_2_mean_squared_error: 0.4845 - decode_3_mean_squared_error: 0.4875 - classify_layer_acc: 0.8435 - val_loss: 0.3966 - val_decode_0_loss: 1.5559e-04 - val_decode_1_loss: 5.6013e-04 - val_decode_2_loss: 8.8135e-05 - val_decode_3_loss: 1.9940e-04 - val_classify_layer_loss: 0.3956 - val_decode_0_mean_squared_error: 0.3297 - val_decode_1_mean_squared_error: 0.4340 - val_decode_2_mean_squared_error: 0.4860 - val_decode_3_mean_squared_error: 0.4922 - val_classify_layer_acc: 0.8542\n",
      "Epoch 12/50\n",
      "5298/5298 [==============================] - 627s 118ms/step - loss: 0.3954 - decode_0_loss: 1.7754e-04 - decode_1_loss: 3.3394e-04 - decode_2_loss: 8.7932e-05 - decode_3_loss: 1.7781e-04 - classify_layer_loss: 0.3946 - decode_0_mean_squared_error: 0.3407 - decode_1_mean_squared_error: 0.4061 - decode_2_mean_squared_error: 0.4906 - decode_3_mean_squared_error: 0.5211 - classify_layer_acc: 0.8447 - val_loss: 0.4305 - val_decode_0_loss: 1.5212e-04 - val_decode_1_loss: 5.0293e-04 - val_decode_2_loss: 9.4353e-05 - val_decode_3_loss: 1.7527e-04 - val_classify_layer_loss: 0.4296 - val_decode_0_mean_squared_error: 0.3220 - val_decode_1_mean_squared_error: 0.4276 - val_decode_2_mean_squared_error: 0.4859 - val_decode_3_mean_squared_error: 0.4796 - val_classify_layer_acc: 0.8438\n",
      "Epoch 13/50\n",
      "5298/5298 [==============================] - 610s 115ms/step - loss: 0.3944 - decode_0_loss: 1.7646e-04 - decode_1_loss: 3.1748e-04 - decode_2_loss: 8.9732e-05 - decode_3_loss: 1.7519e-04 - classify_layer_loss: 0.3936 - decode_0_mean_squared_error: 0.3428 - decode_1_mean_squared_error: 0.4024 - decode_2_mean_squared_error: 0.4931 - decode_3_mean_squared_error: 0.5150 - classify_layer_acc: 0.8456 - val_loss: 0.4515 - val_decode_0_loss: 1.8726e-04 - val_decode_1_loss: 3.3144e-04 - val_decode_2_loss: 4.6492e-05 - val_decode_3_loss: 1.7275e-04 - val_classify_layer_loss: 0.4508 - val_decode_0_mean_squared_error: 0.3389 - val_decode_1_mean_squared_error: 0.4355 - val_decode_2_mean_squared_error: 0.4940 - val_decode_3_mean_squared_error: 0.4625 - val_classify_layer_acc: 0.8229\n",
      "Epoch 14/50\n",
      "5298/5298 [==============================] - 613s 116ms/step - loss: 0.3950 - decode_0_loss: 1.7364e-04 - decode_1_loss: 3.0162e-04 - decode_2_loss: 8.8817e-05 - decode_3_loss: 1.6681e-04 - classify_layer_loss: 0.3943 - decode_0_mean_squared_error: 0.3418 - decode_1_mean_squared_error: 0.4006 - decode_2_mean_squared_error: 0.4920 - decode_3_mean_squared_error: 0.4849 - classify_layer_acc: 0.8462 - val_loss: 0.4240 - val_decode_0_loss: 1.3111e-04 - val_decode_1_loss: 3.2494e-04 - val_decode_2_loss: 8.8123e-05 - val_decode_3_loss: 1.6598e-04 - val_classify_layer_loss: 0.4233 - val_decode_0_mean_squared_error: 0.3186 - val_decode_1_mean_squared_error: 0.3959 - val_decode_2_mean_squared_error: 0.4787 - val_decode_3_mean_squared_error: 0.3979 - val_classify_layer_acc: 0.8333\n",
      "Epoch 15/50\n"
     ]
    },
    {
     "name": "stdout",
     "output_type": "stream",
     "text": [
      "5298/5298 [==============================] - 639s 121ms/step - loss: 0.3957 - decode_0_loss: 1.7699e-04 - decode_1_loss: 3.0450e-04 - decode_2_loss: 8.7560e-05 - decode_3_loss: 1.6520e-04 - classify_layer_loss: 0.3949 - decode_0_mean_squared_error: 0.3424 - decode_1_mean_squared_error: 0.3892 - decode_2_mean_squared_error: 0.4875 - decode_3_mean_squared_error: 0.4455 - classify_layer_acc: 0.8465 - val_loss: 0.4233 - val_decode_0_loss: 1.2368e-04 - val_decode_1_loss: 3.9624e-04 - val_decode_2_loss: 1.9496e-04 - val_decode_3_loss: 2.8315e-04 - val_classify_layer_loss: 0.4223 - val_decode_0_mean_squared_error: 0.3198 - val_decode_1_mean_squared_error: 0.3541 - val_decode_2_mean_squared_error: 0.4728 - val_decode_3_mean_squared_error: 0.4518 - val_classify_layer_acc: 0.8333\n",
      "Epoch 16/50\n",
      "5298/5298 [==============================] - 631s 119ms/step - loss: 0.3964 - decode_0_loss: 1.7182e-04 - decode_1_loss: 3.0195e-04 - decode_2_loss: 8.5961e-05 - decode_3_loss: 1.6513e-04 - classify_layer_loss: 0.3957 - decode_0_mean_squared_error: 0.3431 - decode_1_mean_squared_error: 0.3853 - decode_2_mean_squared_error: 0.4891 - decode_3_mean_squared_error: 0.4439 - classify_layer_acc: 0.8465 - val_loss: 0.4013 - val_decode_0_loss: 1.0816e-04 - val_decode_1_loss: 3.3913e-04 - val_decode_2_loss: 1.3350e-04 - val_decode_3_loss: 1.6435e-04 - val_classify_layer_loss: 0.4006 - val_decode_0_mean_squared_error: 0.3249 - val_decode_1_mean_squared_error: 0.4264 - val_decode_2_mean_squared_error: 0.4855 - val_decode_3_mean_squared_error: 0.4098 - val_classify_layer_acc: 0.8333\n",
      "Epoch 17/50\n",
      "5298/5298 [==============================] - 636s 120ms/step - loss: 0.3972 - decode_0_loss: 1.7813e-04 - decode_1_loss: 2.9585e-04 - decode_2_loss: 8.6335e-05 - decode_3_loss: 1.6137e-04 - classify_layer_loss: 0.3965 - decode_0_mean_squared_error: 0.3459 - decode_1_mean_squared_error: 0.3926 - decode_2_mean_squared_error: 0.4884 - decode_3_mean_squared_error: 0.4235 - classify_layer_acc: 0.8460 - val_loss: 0.4185 - val_decode_0_loss: 1.6627e-04 - val_decode_1_loss: 2.1538e-04 - val_decode_2_loss: 7.1760e-05 - val_decode_3_loss: 1.2150e-04 - val_classify_layer_loss: 0.4179 - val_decode_0_mean_squared_error: 0.3433 - val_decode_1_mean_squared_error: 0.4116 - val_decode_2_mean_squared_error: 0.4888 - val_decode_3_mean_squared_error: 0.3635 - val_classify_layer_acc: 0.8333\n",
      "Epoch 18/50\n",
      "5298/5298 [==============================] - 583s 110ms/step - loss: 0.3952 - decode_0_loss: 1.6349e-04 - decode_1_loss: 2.9539e-04 - decode_2_loss: 8.4118e-05 - decode_3_loss: 1.5952e-04 - classify_layer_loss: 0.3945 - decode_0_mean_squared_error: 0.3479 - decode_1_mean_squared_error: 0.3965 - decode_2_mean_squared_error: 0.4859 - decode_3_mean_squared_error: 0.4111 - classify_layer_acc: 0.8471 - val_loss: 0.4862 - val_decode_0_loss: 1.0509e-04 - val_decode_1_loss: 4.8744e-04 - val_decode_2_loss: 1.3873e-04 - val_decode_3_loss: 1.9076e-04 - val_classify_layer_loss: 0.4853 - val_decode_0_mean_squared_error: 0.3294 - val_decode_1_mean_squared_error: 0.4034 - val_decode_2_mean_squared_error: 0.4833 - val_decode_3_mean_squared_error: 0.3876 - val_classify_layer_acc: 0.8125\n",
      "Epoch 19/50\n",
      "5298/5298 [==============================] - 617s 116ms/step - loss: 0.3950 - decode_0_loss: 1.6389e-04 - decode_1_loss: 2.9380e-04 - decode_2_loss: 8.2412e-05 - decode_3_loss: 1.5745e-04 - classify_layer_loss: 0.3943 - decode_0_mean_squared_error: 0.3464 - decode_1_mean_squared_error: 0.3991 - decode_2_mean_squared_error: 0.4845 - decode_3_mean_squared_error: 0.3962 - classify_layer_acc: 0.8475 - val_loss: 0.5506 - val_decode_0_loss: 2.3028e-04 - val_decode_1_loss: 1.6626e-04 - val_decode_2_loss: 7.1120e-05 - val_decode_3_loss: 2.3410e-04 - val_classify_layer_loss: 0.5499 - val_decode_0_mean_squared_error: 0.3302 - val_decode_1_mean_squared_error: 0.3451 - val_decode_2_mean_squared_error: 0.4826 - val_decode_3_mean_squared_error: 0.3295 - val_classify_layer_acc: 0.8125\n",
      "Epoch 20/50\n",
      "5298/5298 [==============================] - 681s 129ms/step - loss: 0.3954 - decode_0_loss: 1.6425e-04 - decode_1_loss: 3.0174e-04 - decode_2_loss: 8.4186e-05 - decode_3_loss: 1.6168e-04 - classify_layer_loss: 0.3947 - decode_0_mean_squared_error: 0.3461 - decode_1_mean_squared_error: 0.4029 - decode_2_mean_squared_error: 0.4818 - decode_3_mean_squared_error: 0.3912 - classify_layer_acc: 0.8470 - val_loss: 0.4320 - val_decode_0_loss: 1.6572e-04 - val_decode_1_loss: 2.2857e-04 - val_decode_2_loss: 5.0445e-05 - val_decode_3_loss: 1.2247e-04 - val_classify_layer_loss: 0.4314 - val_decode_0_mean_squared_error: 0.3243 - val_decode_1_mean_squared_error: 0.3735 - val_decode_2_mean_squared_error: 0.4946 - val_decode_3_mean_squared_error: 0.3955 - val_classify_layer_acc: 0.8333\n",
      "Epoch 21/50\n",
      "5298/5298 [==============================] - 691s 130ms/step - loss: 0.3972 - decode_0_loss: 1.6509e-04 - decode_1_loss: 3.0271e-04 - decode_2_loss: 8.3874e-05 - decode_3_loss: 1.6518e-04 - classify_layer_loss: 0.3965 - decode_0_mean_squared_error: 0.3461 - decode_1_mean_squared_error: 0.4022 - decode_2_mean_squared_error: 0.4833 - decode_3_mean_squared_error: 0.4326 - classify_layer_acc: 0.8466 - val_loss: 0.4727 - val_decode_0_loss: 1.9303e-04 - val_decode_1_loss: 2.3984e-04 - val_decode_2_loss: 5.7247e-05 - val_decode_3_loss: 8.9267e-05 - val_classify_layer_loss: 0.4721 - val_decode_0_mean_squared_error: 0.3685 - val_decode_1_mean_squared_error: 0.3374 - val_decode_2_mean_squared_error: 0.4976 - val_decode_3_mean_squared_error: 0.4939 - val_classify_layer_acc: 0.8229\n",
      "Epoch 22/50\n",
      "5298/5298 [==============================] - 679s 128ms/step - loss: 0.3988 - decode_0_loss: 1.5603e-04 - decode_1_loss: 2.9822e-04 - decode_2_loss: 8.6585e-05 - decode_3_loss: 1.6651e-04 - classify_layer_loss: 0.3981 - decode_0_mean_squared_error: 0.3450 - decode_1_mean_squared_error: 0.4040 - decode_2_mean_squared_error: 0.4927 - decode_3_mean_squared_error: 0.4627 - classify_layer_acc: 0.8470 - val_loss: 0.4352 - val_decode_0_loss: 1.0850e-04 - val_decode_1_loss: 1.1627e-04 - val_decode_2_loss: 2.3469e-04 - val_decode_3_loss: 1.4832e-04 - val_classify_layer_loss: 0.4346 - val_decode_0_mean_squared_error: 0.3306 - val_decode_1_mean_squared_error: 0.3125 - val_decode_2_mean_squared_error: 0.4926 - val_decode_3_mean_squared_error: 0.4212 - val_classify_layer_acc: 0.8542\n",
      "Epoch 23/50\n",
      "5298/5298 [==============================] - 610s 115ms/step - loss: 0.3982 - decode_0_loss: 1.5647e-04 - decode_1_loss: 3.0591e-04 - decode_2_loss: 8.5885e-05 - decode_3_loss: 1.6640e-04 - classify_layer_loss: 0.3975 - decode_0_mean_squared_error: 0.3435 - decode_1_mean_squared_error: 0.3998 - decode_2_mean_squared_error: 0.4949 - decode_3_mean_squared_error: 0.4824 - classify_layer_acc: 0.8471 - val_loss: 0.3878 - val_decode_0_loss: 1.9652e-04 - val_decode_1_loss: 1.6214e-04 - val_decode_2_loss: 8.8424e-05 - val_decode_3_loss: 2.8502e-04 - val_classify_layer_loss: 0.3871 - val_decode_0_mean_squared_error: 0.3602 - val_decode_1_mean_squared_error: 0.3687 - val_decode_2_mean_squared_error: 0.4957 - val_decode_3_mean_squared_error: 0.5201 - val_classify_layer_acc: 0.8646\n",
      "Epoch 24/50\n",
      "5298/5298 [==============================] - 554s 105ms/step - loss: 0.4017 - decode_0_loss: 1.5704e-04 - decode_1_loss: 2.9972e-04 - decode_2_loss: 8.4837e-05 - decode_3_loss: 1.6436e-04 - classify_layer_loss: 0.4010 - decode_0_mean_squared_error: 0.3412 - decode_1_mean_squared_error: 0.3986 - decode_2_mean_squared_error: 0.4918 - decode_3_mean_squared_error: 0.5201 - classify_layer_acc: 0.8475 - val_loss: 0.3096 - val_decode_0_loss: 1.7326e-04 - val_decode_1_loss: 1.9786e-04 - val_decode_2_loss: 9.8375e-05 - val_decode_3_loss: 3.7907e-04 - val_classify_layer_loss: 0.3087 - val_decode_0_mean_squared_error: 0.3684 - val_decode_1_mean_squared_error: 0.4101 - val_decode_2_mean_squared_error: 0.4792 - val_decode_3_mean_squared_error: 0.5873 - val_classify_layer_acc: 0.8646\n",
      "Epoch 25/50\n",
      "5298/5298 [==============================] - 550s 104ms/step - loss: 0.4004 - decode_0_loss: 1.5813e-04 - decode_1_loss: 2.9657e-04 - decode_2_loss: 8.4481e-05 - decode_3_loss: 1.6623e-04 - classify_layer_loss: 0.3997 - decode_0_mean_squared_error: 0.3394 - decode_1_mean_squared_error: 0.3956 - decode_2_mean_squared_error: 0.4882 - decode_3_mean_squared_error: 0.5299 - classify_layer_acc: 0.8478 - val_loss: 0.3329 - val_decode_0_loss: 2.3359e-04 - val_decode_1_loss: 2.5190e-04 - val_decode_2_loss: 1.1165e-04 - val_decode_3_loss: 2.4743e-04 - val_classify_layer_loss: 0.3320 - val_decode_0_mean_squared_error: 0.3710 - val_decode_1_mean_squared_error: 0.4058 - val_decode_2_mean_squared_error: 0.4718 - val_decode_3_mean_squared_error: 0.5369 - val_classify_layer_acc: 0.8750\n",
      "Epoch 26/50\n",
      "5298/5298 [==============================] - 558s 105ms/step - loss: 0.4007 - decode_0_loss: 1.5357e-04 - decode_1_loss: 2.9810e-04 - decode_2_loss: 8.3596e-05 - decode_3_loss: 1.6564e-04 - classify_layer_loss: 0.4000 - decode_0_mean_squared_error: 0.3380 - decode_1_mean_squared_error: 0.3940 - decode_2_mean_squared_error: 0.4852 - decode_3_mean_squared_error: 0.5235 - classify_layer_acc: 0.8486 - val_loss: 0.3843 - val_decode_0_loss: 1.6124e-04 - val_decode_1_loss: 2.9276e-04 - val_decode_2_loss: 1.4047e-04 - val_decode_3_loss: 1.9014e-04 - val_classify_layer_loss: 0.3835 - val_decode_0_mean_squared_error: 0.3564 - val_decode_1_mean_squared_error: 0.4119 - val_decode_2_mean_squared_error: 0.4680 - val_decode_3_mean_squared_error: 0.5469 - val_classify_layer_acc: 0.8229\n",
      "Epoch 27/50\n",
      "5298/5298 [==============================] - 551s 104ms/step - loss: 0.4007 - decode_0_loss: 1.5134e-04 - decode_1_loss: 2.8340e-04 - decode_2_loss: 8.4924e-05 - decode_3_loss: 1.6302e-04 - classify_layer_loss: 0.4000 - decode_0_mean_squared_error: 0.3377 - decode_1_mean_squared_error: 0.3971 - decode_2_mean_squared_error: 0.4826 - decode_3_mean_squared_error: 0.5252 - classify_layer_acc: 0.8481 - val_loss: 0.3704 - val_decode_0_loss: 1.7241e-04 - val_decode_1_loss: 2.9452e-04 - val_decode_2_loss: 4.1575e-05 - val_decode_3_loss: 2.9882e-04 - val_classify_layer_loss: 0.3696 - val_decode_0_mean_squared_error: 0.3536 - val_decode_1_mean_squared_error: 0.3490 - val_decode_2_mean_squared_error: 0.4840 - val_decode_3_mean_squared_error: 0.5761 - val_classify_layer_acc: 0.8750\n",
      "Epoch 28/50\n",
      "5298/5298 [==============================] - 549s 104ms/step - loss: 0.3993 - decode_0_loss: 1.4822e-04 - decode_1_loss: 2.8298e-04 - decode_2_loss: 8.6076e-05 - decode_3_loss: 1.6752e-04 - classify_layer_loss: 0.3986 - decode_0_mean_squared_error: 0.3396 - decode_1_mean_squared_error: 0.4016 - decode_2_mean_squared_error: 0.4858 - decode_3_mean_squared_error: 0.5312 - classify_layer_acc: 0.8482 - val_loss: 0.4031 - val_decode_0_loss: 2.2329e-04 - val_decode_1_loss: 2.4507e-04 - val_decode_2_loss: 5.9640e-05 - val_decode_3_loss: 6.2542e-05 - val_classify_layer_loss: 0.4025 - val_decode_0_mean_squared_error: 0.3546 - val_decode_1_mean_squared_error: 0.3619 - val_decode_2_mean_squared_error: 0.4844 - val_decode_3_mean_squared_error: 0.4788 - val_classify_layer_acc: 0.8542\n",
      "Epoch 29/50\n",
      "5298/5298 [==============================] - 550s 104ms/step - loss: 0.3994 - decode_0_loss: 1.4969e-04 - decode_1_loss: 2.7606e-04 - decode_2_loss: 8.7256e-05 - decode_3_loss: 1.6968e-04 - classify_layer_loss: 0.3987 - decode_0_mean_squared_error: 0.3392 - decode_1_mean_squared_error: 0.4049 - decode_2_mean_squared_error: 0.4737 - decode_3_mean_squared_error: 0.5144 - classify_layer_acc: 0.8481 - val_loss: 0.4057 - val_decode_0_loss: 1.9859e-04 - val_decode_1_loss: 2.2307e-04 - val_decode_2_loss: 7.7091e-05 - val_decode_3_loss: 8.7976e-05 - val_classify_layer_loss: 0.4051 - val_decode_0_mean_squared_error: 0.3626 - val_decode_1_mean_squared_error: 0.4116 - val_decode_2_mean_squared_error: 0.4757 - val_decode_3_mean_squared_error: 0.5510 - val_classify_layer_acc: 0.8021\n",
      "Epoch 30/50\n",
      "5298/5298 [==============================] - 548s 103ms/step - loss: 0.3953 - decode_0_loss: 1.4230e-04 - decode_1_loss: 2.7875e-04 - decode_2_loss: 8.5081e-05 - decode_3_loss: 1.7148e-04 - classify_layer_loss: 0.3946 - decode_0_mean_squared_error: 0.3399 - decode_1_mean_squared_error: 0.4055 - decode_2_mean_squared_error: 0.4670 - decode_3_mean_squared_error: 0.5046 - classify_layer_acc: 0.8487 - val_loss: 0.3783 - val_decode_0_loss: 1.8889e-04 - val_decode_1_loss: 4.3643e-04 - val_decode_2_loss: 7.5864e-05 - val_decode_3_loss: 1.3306e-04 - val_classify_layer_loss: 0.3775 - val_decode_0_mean_squared_error: 0.3353 - val_decode_1_mean_squared_error: 0.4357 - val_decode_2_mean_squared_error: 0.4730 - val_decode_3_mean_squared_error: 0.5229 - val_classify_layer_acc: 0.8333\n",
      "Epoch 31/50\n",
      "5298/5298 [==============================] - 548s 103ms/step - loss: 0.3990 - decode_0_loss: 1.3866e-04 - decode_1_loss: 2.7107e-04 - decode_2_loss: 8.4300e-05 - decode_3_loss: 1.7389e-04 - classify_layer_loss: 0.3983 - decode_0_mean_squared_error: 0.3421 - decode_1_mean_squared_error: 0.4066 - decode_2_mean_squared_error: 0.4695 - decode_3_mean_squared_error: 0.4849 - classify_layer_acc: 0.8490 - val_loss: 0.4138 - val_decode_0_loss: 1.3685e-04 - val_decode_1_loss: 3.6782e-04 - val_decode_2_loss: 1.1657e-04 - val_decode_3_loss: 1.4837e-04 - val_classify_layer_loss: 0.4130 - val_decode_0_mean_squared_error: 0.3556 - val_decode_1_mean_squared_error: 0.4327 - val_decode_2_mean_squared_error: 0.4648 - val_decode_3_mean_squared_error: 0.4361 - val_classify_layer_acc: 0.8646\n",
      "Epoch 32/50\n",
      "5298/5298 [==============================] - 554s 104ms/step - loss: 0.3975 - decode_0_loss: 1.3917e-04 - decode_1_loss: 2.7791e-04 - decode_2_loss: 8.3157e-05 - decode_3_loss: 1.7838e-04 - classify_layer_loss: 0.3969 - decode_0_mean_squared_error: 0.3433 - decode_1_mean_squared_error: 0.3943 - decode_2_mean_squared_error: 0.4678 - decode_3_mean_squared_error: 0.4627 - classify_layer_acc: 0.8492 - val_loss: 0.4429 - val_decode_0_loss: 1.5321e-04 - val_decode_1_loss: 3.0990e-04 - val_decode_2_loss: 4.4058e-05 - val_decode_3_loss: 2.0432e-04 - val_classify_layer_loss: 0.4422 - val_decode_0_mean_squared_error: 0.3316 - val_decode_1_mean_squared_error: 0.3686 - val_decode_2_mean_squared_error: 0.4778 - val_decode_3_mean_squared_error: 0.4694 - val_classify_layer_acc: 0.8333\n",
      "Epoch 33/50\n",
      "5298/5298 [==============================] - 547s 103ms/step - loss: 0.3940 - decode_0_loss: 1.4069e-04 - decode_1_loss: 2.6306e-04 - decode_2_loss: 8.5415e-05 - decode_3_loss: 1.8031e-04 - classify_layer_loss: 0.3933 - decode_0_mean_squared_error: 0.3430 - decode_1_mean_squared_error: 0.3826 - decode_2_mean_squared_error: 0.4599 - decode_3_mean_squared_error: 0.4544 - classify_layer_acc: 0.8492 - val_loss: 0.4502 - val_decode_0_loss: 1.3284e-04 - val_decode_1_loss: 6.5112e-04 - val_decode_2_loss: 5.1684e-05 - val_decode_3_loss: 1.6654e-04 - val_classify_layer_loss: 0.4492 - val_decode_0_mean_squared_error: 0.3209 - val_decode_1_mean_squared_error: 0.3569 - val_decode_2_mean_squared_error: 0.4718 - val_decode_3_mean_squared_error: 0.4807 - val_classify_layer_acc: 0.8333\n",
      "Epoch 34/50\n",
      "5298/5298 [==============================] - 551s 104ms/step - loss: 0.3912 - decode_0_loss: 1.4205e-04 - decode_1_loss: 2.6219e-04 - decode_2_loss: 8.4727e-05 - decode_3_loss: 1.7644e-04 - classify_layer_loss: 0.3905 - decode_0_mean_squared_error: 0.3376 - decode_1_mean_squared_error: 0.3859 - decode_2_mean_squared_error: 0.4574 - decode_3_mean_squared_error: 0.4397 - classify_layer_acc: 0.8489 - val_loss: 0.3957 - val_decode_0_loss: 1.4844e-04 - val_decode_1_loss: 2.3276e-04 - val_decode_2_loss: 1.4461e-04 - val_decode_3_loss: 2.6889e-04 - val_classify_layer_loss: 0.3949 - val_decode_0_mean_squared_error: 0.3415 - val_decode_1_mean_squared_error: 0.3619 - val_decode_2_mean_squared_error: 0.4780 - val_decode_3_mean_squared_error: 0.4411 - val_classify_layer_acc: 0.8438\n",
      "Epoch 35/50\n"
     ]
    },
    {
     "name": "stdout",
     "output_type": "stream",
     "text": [
      "5298/5298 [==============================] - 549s 104ms/step - loss: 0.3889 - decode_0_loss: 1.4381e-04 - decode_1_loss: 2.5920e-04 - decode_2_loss: 8.3163e-05 - decode_3_loss: 1.7730e-04 - classify_layer_loss: 0.3882 - decode_0_mean_squared_error: 0.3386 - decode_1_mean_squared_error: 0.3882 - decode_2_mean_squared_error: 0.4639 - decode_3_mean_squared_error: 0.4212 - classify_layer_acc: 0.8495 - val_loss: 0.4728 - val_decode_0_loss: 1.3905e-04 - val_decode_1_loss: 2.0832e-04 - val_decode_2_loss: 3.1599e-05 - val_decode_3_loss: 8.2715e-05 - val_classify_layer_loss: 0.4723 - val_decode_0_mean_squared_error: 0.3299 - val_decode_1_mean_squared_error: 0.3606 - val_decode_2_mean_squared_error: 0.4871 - val_decode_3_mean_squared_error: 0.3980 - val_classify_layer_acc: 0.8333\n",
      "Epoch 36/50\n",
      "5298/5298 [==============================] - 549s 104ms/step - loss: 0.3920 - decode_0_loss: 1.3738e-04 - decode_1_loss: 2.5869e-04 - decode_2_loss: 8.3973e-05 - decode_3_loss: 1.7631e-04 - classify_layer_loss: 0.3913 - decode_0_mean_squared_error: 0.3400 - decode_1_mean_squared_error: 0.3918 - decode_2_mean_squared_error: 0.4715 - decode_3_mean_squared_error: 0.4390 - classify_layer_acc: 0.8492 - val_loss: 0.4032 - val_decode_0_loss: 1.0894e-04 - val_decode_1_loss: 1.4379e-04 - val_decode_2_loss: 1.6447e-04 - val_decode_3_loss: 3.7238e-04 - val_classify_layer_loss: 0.4024 - val_decode_0_mean_squared_error: 0.3459 - val_decode_1_mean_squared_error: 0.3187 - val_decode_2_mean_squared_error: 0.4839 - val_decode_3_mean_squared_error: 0.4716 - val_classify_layer_acc: 0.8438\n",
      "Epoch 37/50\n",
      "5298/5298 [==============================] - 547s 103ms/step - loss: 0.3895 - decode_0_loss: 1.3848e-04 - decode_1_loss: 2.5891e-04 - decode_2_loss: 8.6268e-05 - decode_3_loss: 1.7770e-04 - classify_layer_loss: 0.3889 - decode_0_mean_squared_error: 0.3419 - decode_1_mean_squared_error: 0.3972 - decode_2_mean_squared_error: 0.4791 - decode_3_mean_squared_error: 0.4509 - classify_layer_acc: 0.8493 - val_loss: 0.4932 - val_decode_0_loss: 1.0626e-04 - val_decode_1_loss: 1.4278e-04 - val_decode_2_loss: 7.9463e-05 - val_decode_3_loss: 1.9335e-04 - val_classify_layer_loss: 0.4927 - val_decode_0_mean_squared_error: 0.3412 - val_decode_1_mean_squared_error: 0.3358 - val_decode_2_mean_squared_error: 0.4845 - val_decode_3_mean_squared_error: 0.4257 - val_classify_layer_acc: 0.8333\n",
      "Epoch 38/50\n",
      "5298/5298 [==============================] - 548s 103ms/step - loss: 0.3941 - decode_0_loss: 1.4151e-04 - decode_1_loss: 2.5710e-04 - decode_2_loss: 8.5321e-05 - decode_3_loss: 1.7797e-04 - classify_layer_loss: 0.3934 - decode_0_mean_squared_error: 0.3427 - decode_1_mean_squared_error: 0.3978 - decode_2_mean_squared_error: 0.4790 - decode_3_mean_squared_error: 0.4836 - classify_layer_acc: 0.8494 - val_loss: 0.3557 - val_decode_0_loss: 2.0279e-04 - val_decode_1_loss: 3.6211e-04 - val_decode_2_loss: 6.0351e-05 - val_decode_3_loss: 2.4180e-04 - val_classify_layer_loss: 0.3549 - val_decode_0_mean_squared_error: 0.3780 - val_decode_1_mean_squared_error: 0.3737 - val_decode_2_mean_squared_error: 0.4717 - val_decode_3_mean_squared_error: 0.5491 - val_classify_layer_acc: 0.8750\n",
      "Epoch 39/50\n",
      "5298/5298 [==============================] - 549s 104ms/step - loss: 0.3947 - decode_0_loss: 1.4170e-04 - decode_1_loss: 2.5622e-04 - decode_2_loss: 8.5146e-05 - decode_3_loss: 1.7406e-04 - classify_layer_loss: 0.3941 - decode_0_mean_squared_error: 0.3425 - decode_1_mean_squared_error: 0.3985 - decode_2_mean_squared_error: 0.4736 - decode_3_mean_squared_error: 0.5347 - classify_layer_acc: 0.8498 - val_loss: 0.3312 - val_decode_0_loss: 1.0952e-04 - val_decode_1_loss: 2.2554e-04 - val_decode_2_loss: 7.0767e-05 - val_decode_3_loss: 2.6007e-04 - val_classify_layer_loss: 0.3306 - val_decode_0_mean_squared_error: 0.3511 - val_decode_1_mean_squared_error: 0.4350 - val_decode_2_mean_squared_error: 0.4552 - val_decode_3_mean_squared_error: 0.5585 - val_classify_layer_acc: 0.8646\n",
      "Epoch 40/50\n",
      "5298/5298 [==============================] - 549s 104ms/step - loss: 0.3942 - decode_0_loss: 1.4426e-04 - decode_1_loss: 2.6446e-04 - decode_2_loss: 8.2419e-05 - decode_3_loss: 1.7132e-04 - classify_layer_loss: 0.3935 - decode_0_mean_squared_error: 0.3448 - decode_1_mean_squared_error: 0.4024 - decode_2_mean_squared_error: 0.4689 - decode_3_mean_squared_error: 0.5405 - classify_layer_acc: 0.8499 - val_loss: 0.3337 - val_decode_0_loss: 1.5502e-04 - val_decode_1_loss: 2.0790e-04 - val_decode_2_loss: 5.3610e-05 - val_decode_3_loss: 1.4296e-04 - val_classify_layer_loss: 0.3331 - val_decode_0_mean_squared_error: 0.3627 - val_decode_1_mean_squared_error: 0.4630 - val_decode_2_mean_squared_error: 0.4627 - val_decode_3_mean_squared_error: 0.6008 - val_classify_layer_acc: 0.8750\n",
      "Epoch 41/50\n",
      "5298/5298 [==============================] - 543s 102ms/step - loss: 0.3915 - decode_0_loss: 1.4273e-04 - decode_1_loss: 2.6039e-04 - decode_2_loss: 8.1612e-05 - decode_3_loss: 1.7072e-04 - classify_layer_loss: 0.3908 - decode_0_mean_squared_error: 0.3455 - decode_1_mean_squared_error: 0.4202 - decode_2_mean_squared_error: 0.4651 - decode_3_mean_squared_error: 0.5512 - classify_layer_acc: 0.8498 - val_loss: 0.3482 - val_decode_0_loss: 1.4939e-04 - val_decode_1_loss: 2.1162e-04 - val_decode_2_loss: 1.3466e-04 - val_decode_3_loss: 1.2017e-04 - val_classify_layer_loss: 0.3476 - val_decode_0_mean_squared_error: 0.3780 - val_decode_1_mean_squared_error: 0.4196 - val_decode_2_mean_squared_error: 0.4285 - val_decode_3_mean_squared_error: 0.5592 - val_classify_layer_acc: 0.8646\n",
      "Epoch 42/50\n",
      "5298/5298 [==============================] - 546s 103ms/step - loss: 0.3925 - decode_0_loss: 1.3907e-04 - decode_1_loss: 2.6176e-04 - decode_2_loss: 8.0173e-05 - decode_3_loss: 1.7241e-04 - classify_layer_loss: 0.3918 - decode_0_mean_squared_error: 0.3457 - decode_1_mean_squared_error: 0.4196 - decode_2_mean_squared_error: 0.4634 - decode_3_mean_squared_error: 0.5478 - classify_layer_acc: 0.8506 - val_loss: 0.3456 - val_decode_0_loss: 1.0007e-04 - val_decode_1_loss: 2.3490e-04 - val_decode_2_loss: 2.6024e-04 - val_decode_3_loss: 1.3770e-04 - val_classify_layer_loss: 0.3449 - val_decode_0_mean_squared_error: 0.3342 - val_decode_1_mean_squared_error: 0.3915 - val_decode_2_mean_squared_error: 0.4599 - val_decode_3_mean_squared_error: 0.5458 - val_classify_layer_acc: 0.8750\n",
      "Epoch 43/50\n",
      "5298/5298 [==============================] - 548s 103ms/step - loss: 0.3945 - decode_0_loss: 1.3874e-04 - decode_1_loss: 2.6085e-04 - decode_2_loss: 8.0856e-05 - decode_3_loss: 1.7269e-04 - classify_layer_loss: 0.3939 - decode_0_mean_squared_error: 0.3433 - decode_1_mean_squared_error: 0.4202 - decode_2_mean_squared_error: 0.4584 - decode_3_mean_squared_error: 0.5380 - classify_layer_acc: 0.8504 - val_loss: 0.4271 - val_decode_0_loss: 1.1837e-04 - val_decode_1_loss: 2.3186e-04 - val_decode_2_loss: 4.0740e-05 - val_decode_3_loss: 2.0729e-04 - val_classify_layer_loss: 0.4265 - val_decode_0_mean_squared_error: 0.3556 - val_decode_1_mean_squared_error: 0.4117 - val_decode_2_mean_squared_error: 0.4570 - val_decode_3_mean_squared_error: 0.5678 - val_classify_layer_acc: 0.8542\n",
      "Epoch 44/50\n",
      "5298/5298 [==============================] - 545s 103ms/step - loss: 0.3927 - decode_0_loss: 1.3836e-04 - decode_1_loss: 2.6165e-04 - decode_2_loss: 8.1629e-05 - decode_3_loss: 1.7166e-04 - classify_layer_loss: 0.3920 - decode_0_mean_squared_error: 0.3415 - decode_1_mean_squared_error: 0.4204 - decode_2_mean_squared_error: 0.4535 - decode_3_mean_squared_error: 0.5415 - classify_layer_acc: 0.8502 - val_loss: 0.4955 - val_decode_0_loss: 1.2982e-04 - val_decode_1_loss: 1.3253e-04 - val_decode_2_loss: 6.9869e-05 - val_decode_3_loss: 1.5570e-04 - val_classify_layer_loss: 0.4950 - val_decode_0_mean_squared_error: 0.3396 - val_decode_1_mean_squared_error: 0.4692 - val_decode_2_mean_squared_error: 0.4450 - val_decode_3_mean_squared_error: 0.5717 - val_classify_layer_acc: 0.8125\n",
      "Epoch 45/50\n",
      "5298/5298 [==============================] - 551s 104ms/step - loss: 0.3923 - decode_0_loss: 1.4040e-04 - decode_1_loss: 2.6213e-04 - decode_2_loss: 8.1075e-05 - decode_3_loss: 1.7017e-04 - classify_layer_loss: 0.3917 - decode_0_mean_squared_error: 0.3422 - decode_1_mean_squared_error: 0.4205 - decode_2_mean_squared_error: 0.4505 - decode_3_mean_squared_error: 0.5382 - classify_layer_acc: 0.8503 - val_loss: 0.3758 - val_decode_0_loss: 1.1094e-04 - val_decode_1_loss: 1.8881e-04 - val_decode_2_loss: 8.4471e-05 - val_decode_3_loss: 1.8734e-04 - val_classify_layer_loss: 0.3752 - val_decode_0_mean_squared_error: 0.3401 - val_decode_1_mean_squared_error: 0.4447 - val_decode_2_mean_squared_error: 0.4309 - val_decode_3_mean_squared_error: 0.5049 - val_classify_layer_acc: 0.8333\n",
      "Epoch 46/50\n",
      "5298/5298 [==============================] - 550s 104ms/step - loss: 0.3921 - decode_0_loss: 1.3845e-04 - decode_1_loss: 2.6965e-04 - decode_2_loss: 8.2095e-05 - decode_3_loss: 1.6843e-04 - classify_layer_loss: 0.3915 - decode_0_mean_squared_error: 0.3425 - decode_1_mean_squared_error: 0.4191 - decode_2_mean_squared_error: 0.4460 - decode_3_mean_squared_error: 0.5417 - classify_layer_acc: 0.8500 - val_loss: 0.4301 - val_decode_0_loss: 1.4570e-04 - val_decode_1_loss: 1.3696e-04 - val_decode_2_loss: 2.3798e-04 - val_decode_3_loss: 1.6135e-04 - val_classify_layer_loss: 0.4294 - val_decode_0_mean_squared_error: 0.3199 - val_decode_1_mean_squared_error: 0.3908 - val_decode_2_mean_squared_error: 0.4306 - val_decode_3_mean_squared_error: 0.5652 - val_classify_layer_acc: 0.8542\n",
      "Epoch 47/50\n",
      "5298/5298 [==============================] - 552s 104ms/step - loss: 0.3940 - decode_0_loss: 1.4102e-04 - decode_1_loss: 2.6020e-04 - decode_2_loss: 8.4132e-05 - decode_3_loss: 1.6351e-04 - classify_layer_loss: 0.3933 - decode_0_mean_squared_error: 0.3405 - decode_1_mean_squared_error: 0.4191 - decode_2_mean_squared_error: 0.4398 - decode_3_mean_squared_error: 0.5501 - classify_layer_acc: 0.8502 - val_loss: 0.4422 - val_decode_0_loss: 1.0386e-04 - val_decode_1_loss: 1.4051e-04 - val_decode_2_loss: 5.7782e-05 - val_decode_3_loss: 1.4698e-04 - val_classify_layer_loss: 0.4417 - val_decode_0_mean_squared_error: 0.3478 - val_decode_1_mean_squared_error: 0.3339 - val_decode_2_mean_squared_error: 0.4457 - val_decode_3_mean_squared_error: 0.5493 - val_classify_layer_acc: 0.8438\n",
      "Epoch 48/50\n",
      "5298/5298 [==============================] - 547s 103ms/step - loss: 0.3939 - decode_0_loss: 1.3892e-04 - decode_1_loss: 2.6228e-04 - decode_2_loss: 8.3512e-05 - decode_3_loss: 1.6604e-04 - classify_layer_loss: 0.3932 - decode_0_mean_squared_error: 0.3409 - decode_1_mean_squared_error: 0.4187 - decode_2_mean_squared_error: 0.4449 - decode_3_mean_squared_error: 0.5525 - classify_layer_acc: 0.8504 - val_loss: 0.4092 - val_decode_0_loss: 1.3309e-04 - val_decode_1_loss: 1.4934e-04 - val_decode_2_loss: 1.4187e-04 - val_decode_3_loss: 2.1835e-04 - val_classify_layer_loss: 0.4086 - val_decode_0_mean_squared_error: 0.3518 - val_decode_1_mean_squared_error: 0.4086 - val_decode_2_mean_squared_error: 0.4090 - val_decode_3_mean_squared_error: 0.5314 - val_classify_layer_acc: 0.8542\n",
      "Epoch 49/50\n",
      "5298/5298 [==============================] - 553s 104ms/step - loss: 0.3922 - decode_0_loss: 1.3614e-04 - decode_1_loss: 2.6068e-04 - decode_2_loss: 8.1647e-05 - decode_3_loss: 1.6565e-04 - classify_layer_loss: 0.3915 - decode_0_mean_squared_error: 0.3409 - decode_1_mean_squared_error: 0.4191 - decode_2_mean_squared_error: 0.4479 - decode_3_mean_squared_error: 0.5488 - classify_layer_acc: 0.8507 - val_loss: 0.3087 - val_decode_0_loss: 1.4316e-04 - val_decode_1_loss: 2.2855e-04 - val_decode_2_loss: 6.3924e-05 - val_decode_3_loss: 2.6147e-04 - val_classify_layer_loss: 0.3080 - val_decode_0_mean_squared_error: 0.3598 - val_decode_1_mean_squared_error: 0.4560 - val_decode_2_mean_squared_error: 0.4360 - val_decode_3_mean_squared_error: 0.5532 - val_classify_layer_acc: 0.8958\n",
      "Epoch 50/50\n",
      "5298/5298 [==============================] - 551s 104ms/step - loss: 0.3920 - decode_0_loss: 1.3569e-04 - decode_1_loss: 2.5880e-04 - decode_2_loss: 8.1476e-05 - decode_3_loss: 1.6761e-04 - classify_layer_loss: 0.3913 - decode_0_mean_squared_error: 0.3411 - decode_1_mean_squared_error: 0.4193 - decode_2_mean_squared_error: 0.4476 - decode_3_mean_squared_error: 0.5456 - classify_layer_acc: 0.8513 - val_loss: 0.3770 - val_decode_0_loss: 1.4920e-04 - val_decode_1_loss: 5.2791e-04 - val_decode_2_loss: 5.4031e-05 - val_decode_3_loss: 1.5439e-04 - val_classify_layer_loss: 0.3761 - val_decode_0_mean_squared_error: 0.3564 - val_decode_1_mean_squared_error: 0.4458 - val_decode_2_mean_squared_error: 0.4347 - val_decode_3_mean_squared_error: 0.5758 - val_classify_layer_acc: 0.8646\n",
      "time,  29435.300597190857\n"
     ]
    }
   ],
   "source": [
    "#selected_checkins format -\n",
    "#selected_checkins (4 columns): user_index, time (hour in a week), venue_index, venue_category_index\n",
    "#feeding it as it is to DHNE\n",
    "\n",
    "%run hypergraph_embedding.py --data_path lbsndata --save_path lbsnresult -s 100 100 100 100 -e 50"
   ]
  },
  {
   "cell_type": "code",
   "execution_count": 11,
   "metadata": {
    "scrolled": true
   },
   "outputs": [
    {
     "name": "stdout",
     "output_type": "stream",
     "text": [
      "(4,)\n",
      "embed[0].shape (4024, 100)\n",
      "embed[1].shape (168, 100)\n",
      "embed[2].shape (3628, 100)\n",
      "embed[3].shape (300, 100)\n"
     ]
    }
   ],
   "source": [
    "#embeddings are stored in lbsnresult/model_(no.ofemneddings)/embeddings.npy\n",
    "#corresponding model stored in lbsnresult/model_(no.ofemneddings)/model.h5\n",
    "\n",
    "embed = np.load('lbsnresult/model_100/embeddings.npy')\n",
    "print(embed.shape)\n",
    "print('embed[0].shape',embed[0].shape)\n",
    "print('embed[1].shape',embed[1].shape)\n",
    "print('embed[2].shape',embed[2].shape)\n",
    "print('embed[3].shape',embed[3].shape)"
   ]
  },
  {
   "cell_type": "code",
   "execution_count": 29,
   "metadata": {
    "scrolled": true
   },
   "outputs": [
    {
     "ename": "KeyboardInterrupt",
     "evalue": "",
     "output_type": "error",
     "traceback": [
      "\u001b[0;31m---------------------------------------------------------------------------\u001b[0m",
      "\u001b[0;31mKeyboardInterrupt\u001b[0m                         Traceback (most recent call last)",
      "\u001b[0;32m<ipython-input-29-e63564ee92a4>\u001b[0m in \u001b[0;36m<module>\u001b[0;34m\u001b[0m\n\u001b[1;32m     13\u001b[0m \u001b[0;34m\u001b[0m\u001b[0m\n\u001b[1;32m     14\u001b[0m     \u001b[0;32mfor\u001b[0m \u001b[0mi\u001b[0m \u001b[0;32min\u001b[0m \u001b[0mrange\u001b[0m\u001b[0;34m(\u001b[0m\u001b[0mmin\u001b[0m\u001b[0;34m(\u001b[0m\u001b[0mselected_checkins\u001b[0m\u001b[0;34m[\u001b[0m\u001b[0;34m:\u001b[0m\u001b[0;34m,\u001b[0m\u001b[0;36m2\u001b[0m\u001b[0;34m]\u001b[0m\u001b[0;34m)\u001b[0m\u001b[0;34m,\u001b[0m\u001b[0mmax\u001b[0m\u001b[0;34m(\u001b[0m\u001b[0mselected_checkins\u001b[0m\u001b[0;34m[\u001b[0m\u001b[0;34m:\u001b[0m\u001b[0;34m,\u001b[0m\u001b[0;36m2\u001b[0m\u001b[0;34m]\u001b[0m\u001b[0;34m)\u001b[0m\u001b[0;34m+\u001b[0m\u001b[0;36m1\u001b[0m\u001b[0;34m)\u001b[0m\u001b[0;34m:\u001b[0m\u001b[0;34m\u001b[0m\u001b[0;34m\u001b[0m\u001b[0m\n\u001b[0;32m---> 15\u001b[0;31m         \u001b[0msumm\u001b[0m \u001b[0;34m=\u001b[0m \u001b[0;34m(\u001b[0m\u001b[0;36m1\u001b[0m \u001b[0;34m-\u001b[0m \u001b[0mdistance\u001b[0m\u001b[0;34m.\u001b[0m\u001b[0mcosine\u001b[0m\u001b[0;34m(\u001b[0m\u001b[0membed\u001b[0m\u001b[0;34m[\u001b[0m\u001b[0;36m0\u001b[0m\u001b[0;34m]\u001b[0m\u001b[0;34m[\u001b[0m\u001b[0muser\u001b[0m\u001b[0;34m]\u001b[0m\u001b[0;34m,\u001b[0m\u001b[0membed\u001b[0m\u001b[0;34m[\u001b[0m\u001b[0;36m2\u001b[0m\u001b[0;34m]\u001b[0m\u001b[0;34m[\u001b[0m\u001b[0mi\u001b[0m\u001b[0;34m]\u001b[0m\u001b[0;34m)\u001b[0m\u001b[0;34m)\u001b[0m\u001b[0;34m+\u001b[0m\u001b[0;34m(\u001b[0m\u001b[0;36m1\u001b[0m \u001b[0;34m-\u001b[0m \u001b[0mdistance\u001b[0m\u001b[0;34m.\u001b[0m\u001b[0mcosine\u001b[0m\u001b[0;34m(\u001b[0m\u001b[0membed\u001b[0m\u001b[0;34m[\u001b[0m\u001b[0;36m0\u001b[0m\u001b[0;34m]\u001b[0m\u001b[0;34m[\u001b[0m\u001b[0mtime\u001b[0m\u001b[0;34m]\u001b[0m\u001b[0;34m,\u001b[0m\u001b[0membed\u001b[0m\u001b[0;34m[\u001b[0m\u001b[0;36m2\u001b[0m\u001b[0;34m]\u001b[0m\u001b[0;34m[\u001b[0m\u001b[0mi\u001b[0m\u001b[0;34m]\u001b[0m\u001b[0;34m)\u001b[0m\u001b[0;34m)\u001b[0m\u001b[0;34m\u001b[0m\u001b[0;34m\u001b[0m\u001b[0m\n\u001b[0m\u001b[1;32m     16\u001b[0m         \u001b[0mdist\u001b[0m\u001b[0;34m.\u001b[0m\u001b[0mappend\u001b[0m\u001b[0;34m(\u001b[0m\u001b[0;34m(\u001b[0m\u001b[0mabs\u001b[0m\u001b[0;34m(\u001b[0m\u001b[0msumm\u001b[0m\u001b[0;34m)\u001b[0m\u001b[0;34m,\u001b[0m\u001b[0mi\u001b[0m\u001b[0;34m)\u001b[0m\u001b[0;34m)\u001b[0m\u001b[0;34m\u001b[0m\u001b[0;34m\u001b[0m\u001b[0m\n\u001b[1;32m     17\u001b[0m \u001b[0;34m\u001b[0m\u001b[0m\n",
      "\u001b[0;32m~/anaconda3/lib/python3.6/site-packages/scipy/spatial/distance.py\u001b[0m in \u001b[0;36mcosine\u001b[0;34m(u, v, w)\u001b[0m\n\u001b[1;32m    764\u001b[0m     \u001b[0;31m# cosine distance is also referred to as 'uncentered correlation',\u001b[0m\u001b[0;34m\u001b[0m\u001b[0;34m\u001b[0m\u001b[0;34m\u001b[0m\u001b[0m\n\u001b[1;32m    765\u001b[0m     \u001b[0;31m#   or 'reflective correlation'\u001b[0m\u001b[0;34m\u001b[0m\u001b[0;34m\u001b[0m\u001b[0;34m\u001b[0m\u001b[0m\n\u001b[0;32m--> 766\u001b[0;31m     \u001b[0;32mreturn\u001b[0m \u001b[0mcorrelation\u001b[0m\u001b[0;34m(\u001b[0m\u001b[0mu\u001b[0m\u001b[0;34m,\u001b[0m \u001b[0mv\u001b[0m\u001b[0;34m,\u001b[0m \u001b[0mw\u001b[0m\u001b[0;34m=\u001b[0m\u001b[0mw\u001b[0m\u001b[0;34m,\u001b[0m \u001b[0mcentered\u001b[0m\u001b[0;34m=\u001b[0m\u001b[0;32mFalse\u001b[0m\u001b[0;34m)\u001b[0m\u001b[0;34m\u001b[0m\u001b[0;34m\u001b[0m\u001b[0m\n\u001b[0m\u001b[1;32m    767\u001b[0m \u001b[0;34m\u001b[0m\u001b[0m\n\u001b[1;32m    768\u001b[0m \u001b[0;34m\u001b[0m\u001b[0m\n",
      "\u001b[0;32m~/anaconda3/lib/python3.6/site-packages/scipy/spatial/distance.py\u001b[0m in \u001b[0;36mcorrelation\u001b[0;34m(u, v, w, centered)\u001b[0m\n\u001b[1;32m    717\u001b[0m     \u001b[0muv\u001b[0m \u001b[0;34m=\u001b[0m \u001b[0mnp\u001b[0m\u001b[0;34m.\u001b[0m\u001b[0maverage\u001b[0m\u001b[0;34m(\u001b[0m\u001b[0mu\u001b[0m \u001b[0;34m*\u001b[0m \u001b[0mv\u001b[0m\u001b[0;34m,\u001b[0m \u001b[0mweights\u001b[0m\u001b[0;34m=\u001b[0m\u001b[0mw\u001b[0m\u001b[0;34m)\u001b[0m\u001b[0;34m\u001b[0m\u001b[0;34m\u001b[0m\u001b[0m\n\u001b[1;32m    718\u001b[0m     \u001b[0muu\u001b[0m \u001b[0;34m=\u001b[0m \u001b[0mnp\u001b[0m\u001b[0;34m.\u001b[0m\u001b[0maverage\u001b[0m\u001b[0;34m(\u001b[0m\u001b[0mnp\u001b[0m\u001b[0;34m.\u001b[0m\u001b[0msquare\u001b[0m\u001b[0;34m(\u001b[0m\u001b[0mu\u001b[0m\u001b[0;34m)\u001b[0m\u001b[0;34m,\u001b[0m \u001b[0mweights\u001b[0m\u001b[0;34m=\u001b[0m\u001b[0mw\u001b[0m\u001b[0;34m)\u001b[0m\u001b[0;34m\u001b[0m\u001b[0;34m\u001b[0m\u001b[0m\n\u001b[0;32m--> 719\u001b[0;31m     \u001b[0mvv\u001b[0m \u001b[0;34m=\u001b[0m \u001b[0mnp\u001b[0m\u001b[0;34m.\u001b[0m\u001b[0maverage\u001b[0m\u001b[0;34m(\u001b[0m\u001b[0mnp\u001b[0m\u001b[0;34m.\u001b[0m\u001b[0msquare\u001b[0m\u001b[0;34m(\u001b[0m\u001b[0mv\u001b[0m\u001b[0;34m)\u001b[0m\u001b[0;34m,\u001b[0m \u001b[0mweights\u001b[0m\u001b[0;34m=\u001b[0m\u001b[0mw\u001b[0m\u001b[0;34m)\u001b[0m\u001b[0;34m\u001b[0m\u001b[0;34m\u001b[0m\u001b[0m\n\u001b[0m\u001b[1;32m    720\u001b[0m     \u001b[0mdist\u001b[0m \u001b[0;34m=\u001b[0m \u001b[0;36m1.0\u001b[0m \u001b[0;34m-\u001b[0m \u001b[0muv\u001b[0m \u001b[0;34m/\u001b[0m \u001b[0mnp\u001b[0m\u001b[0;34m.\u001b[0m\u001b[0msqrt\u001b[0m\u001b[0;34m(\u001b[0m\u001b[0muu\u001b[0m \u001b[0;34m*\u001b[0m \u001b[0mvv\u001b[0m\u001b[0;34m)\u001b[0m\u001b[0;34m\u001b[0m\u001b[0;34m\u001b[0m\u001b[0m\n\u001b[1;32m    721\u001b[0m     \u001b[0;32mreturn\u001b[0m \u001b[0mdist\u001b[0m\u001b[0;34m\u001b[0m\u001b[0;34m\u001b[0m\u001b[0m\n",
      "\u001b[0;31mKeyboardInterrupt\u001b[0m: "
     ]
    }
   ],
   "source": [
    "#location prediction on the learnt embeddings\n",
    "#selected_checkins (4 columns): user_index, time (hour in a week), venue_index, venue_category_index\n",
    "import time\n",
    "from scipy.spatial import distance\n",
    "\n",
    "count = 0\n",
    "\n",
    "start = time.time()\n",
    "for d in range(train_data.shape[0]):\n",
    "    test = train_data[d]\n",
    "    user = test[0]\n",
    "    time = test[1]\n",
    "    dist = []\n",
    "    \n",
    "    for i in range(min(train_data[:,2]),max(train_data[:,2])+1):\n",
    "        summ = (1 - distance.cosine(embed[0][user],embed[2][i]))+(1 - distance.cosine(embed[1][time],embed[2][i]))\n",
    "        dist.append((abs(summ),i))\n",
    "        \n",
    "    dist = sorted(dist, key=lambda student: student[0])\n",
    "    if test[2] in (np.array(dist[0:10])[:,1]):\n",
    "        count+=1\n",
    "end=time.time()\n",
    "\n",
    "print(\"this is count \",count)\n",
    "print(\"this is count fraction \",count/train_data.shape[0])\n",
    "print(\"time lapsed \",end-start)"
   ]
  },
  {
   "cell_type": "code",
   "execution_count": null,
   "metadata": {},
   "outputs": [],
   "source": []
  }
 ],
 "metadata": {
  "kernelspec": {
   "display_name": "Python 3",
   "language": "python",
   "name": "python3"
  },
  "language_info": {
   "codemirror_mode": {
    "name": "ipython",
    "version": 3
   },
   "file_extension": ".py",
   "mimetype": "text/x-python",
   "name": "python",
   "nbconvert_exporter": "python",
   "pygments_lexer": "ipython3",
   "version": "3.6.12"
  }
 },
 "nbformat": 4,
 "nbformat_minor": 2
}
