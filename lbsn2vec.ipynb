{
 "cells": [
  {
   "cell_type": "code",
   "execution_count": 1,
   "metadata": {},
   "outputs": [],
   "source": [
    "#collecting data\n",
    "import numpy as np\n",
    "import scipy.io\n",
    "mat = scipy.io.loadmat('dataset_connected_NYC.mat') #while tryin in terminal, start path with Documents"
   ]
  },
  {
   "cell_type": "markdown",
   "metadata": {},
   "source": [
    "## Preprocessing data"
   ]
  },
  {
   "cell_type": "code",
   "execution_count": 2,
   "metadata": {},
   "outputs": [
    {
     "name": "stdout",
     "output_type": "stream",
     "text": [
      "[[   1801      39   17807      70]\n",
      " [    105      39    5708      33]\n",
      " [    571      39    3968     300]\n",
      " ...\n",
      " [    718      59   12596      70]\n",
      " [   1446      59  104201     279]\n",
      " [   2305      60 1692889     190]]\n"
     ]
    }
   ],
   "source": [
    "friendship_new = mat['friendship_new']\n",
    "friendship_old = mat['friendship_old']\n",
    "selected_checkins = mat['selected_checkins']\n",
    "selected_users_IDs = mat['selected_users_IDs']\n",
    "temp = mat['selected_venue_IDs']\n",
    "selected_venue_IDs = []\n",
    "for i in range(len(temp)):\n",
    "    temper = temp[i][0]\n",
    "    selected_venue_IDs.append(temper[0])\n",
    "#print(len(selected_venue_IDs)) #sanity check\n",
    "#print(len(temp)) #should be same as above\n",
    "print(selected_checkins)"
   ]
  },
  {
   "cell_type": "code",
   "execution_count": 3,
   "metadata": {},
   "outputs": [],
   "source": [
    "# 1. rebuild node index\n",
    "offset1 = max(selected_checkins[:,0]);\n",
    "dumy, dumy, n = np.unique(selected_checkins[:,1],return_index=True,return_inverse=True, axis=0)\n",
    "selected_checkins[:,1] = n+offset1;\n",
    "#print(selected_checkins[:,1])\n",
    "#print(offset1)\n",
    "#print(n)\n",
    "offset2 = max(selected_checkins[:,1]);\n",
    "dumy, dumy, n = np.unique(selected_checkins[:,2],return_index=True,return_inverse=True, axis=0)\n",
    "selected_checkins[:,2] = n+offset2;\n",
    "#print(selected_checkins[:,2])\n",
    "#print(offset2)\n",
    "#print(n)\n",
    "offset3 = max(selected_checkins[:,2]);\n",
    "dumy, dumy, n = np.unique(selected_checkins[:,3],return_index=True,return_inverse=True, axis=0)\n",
    "selected_checkins[:,3] = n+offset3;\n",
    "#print(selected_checkins[:,3])\n",
    "#print(offset3)\n",
    "#print(n)\n",
    "\n",
    "num_node_total = max(map(max, selected_checkins)) #max of the entire matrix = 8117\n",
    "#print(min(map(min, selected_checkins)))"
   ]
  },
  {
   "cell_type": "code",
   "execution_count": 4,
   "metadata": {},
   "outputs": [
    {
     "name": "stdout",
     "output_type": "stream",
     "text": [
      "[   1 4061 7418 7881]\n"
     ]
    }
   ],
   "source": [
    "# 2. prepare checkins per user (fast)\n",
    "#user_chechkins is a cell in MATLAB; using Python List for the same\n",
    "user_checkins = [[] for _ in range(selected_users_IDs.shape[0])]\n",
    "user_checkins_counter=np.zeros((len(selected_users_IDs),1)).astype(np.int64)\n",
    "ind = selected_checkins[:,0].argsort(axis=0)\n",
    "temp_checkins = np.array([selected_checkins[i,:] for i in ind]) #will not exactly be similar to MATLAB op\n",
    "u,m,n = np.unique(temp_checkins[:,0],return_index=True,return_inverse=True, axis=0)\n",
    "m=m.reshape(-1,1)\n",
    "u=np.array(u)\n",
    "counters = np.vstack((m[1:],temp_checkins.shape[0]))-m #+1 is not there because indexing starts from 0\n",
    "ini_val=0\n",
    "for i in range(0,u.shape[0]):\n",
    "    user_checkins[u[i]-1].append(temp_checkins[ini_val:ini_val+counters[i,0],:])\n",
    "    user_checkins[u[i]-1]=np.array(user_checkins[u[i]-1])[0,:,:].T\n",
    "    user_checkins[u[i]-1].astype(np.int64)\n",
    "    ini_val=ini_val+counters[i,0]\n",
    "    user_checkins_counter[u[i]-1]=counters[i].astype(np.int64)\n",
    "user_checkins[4023].shape #for debugging\n",
    "\n",
    "#print(np.count_nonzero(user_checkins_counter)) #for debugging\n",
    "#len(user_checkins_counter)\n",
    "tttt = user_checkins[0]\n",
    "print(tttt[:,0])"
   ]
  },
  {
   "cell_type": "code",
   "execution_count": 5,
   "metadata": {},
   "outputs": [
    {
     "name": "stdout",
     "output_type": "stream",
     "text": [
      "[   0    1    2 ... 4021 4022 4023]\n",
      "[    0    16    25 ... 17441 17442 17444]\n",
      "[   0    0    0 ... 4022 4022 4023]\n"
     ]
    }
   ],
   "source": [
    "# 3. random walk\n",
    "from scipy.sparse import csr_matrix\n",
    "num_node = len(selected_users_IDs)\n",
    "network=csr_matrix((np.ones((len(friendship_old),)), (friendship_old[:,0]-1, friendship_old[:,1]-1)), shape=(num_node, num_node))\n",
    "network=network+network.T\n",
    "\n",
    "node_list=[[] for _ in range(num_node)]\n",
    "node_list_len = np.zeros((num_node,));\n",
    "num_walk = 10;\n",
    "len_walk = 80;\n",
    "(indx,indy) = network.T.nonzero()\n",
    "#for i in range(len(indx)):\n",
    "#    indx[i]+=1\n",
    "#    indy[i]+=1\n",
    "\n",
    "temp, m, n = np.unique(indx,return_index=True,return_inverse=True, axis=0) #check m for debugging\n",
    "print(temp)\n",
    "print(m)\n",
    "print(n)\n",
    "m=np.array(m).reshape(-1,1)\n",
    "node_list_len=np.vstack((m[1:],len(indx))) - m #+1 is not there because indexing starts from 0\n",
    "ini_val=0\n",
    "temp=np.array(temp)\n",
    "node_list_len=node_list_len[:,0] #for indexing\n",
    "\n",
    "for i in range(0,temp.shape[0]):\n",
    "    node_list[temp[i]].append(indy[ini_val:ini_val+node_list_len[i]])\n",
    "    ini_val=ini_val+node_list_len[i]\n",
    "#node_list #for debugging match with MATLAB\n",
    "#node_list_len.shape = np.count_nonzero(node_list_len) has to be as written in MATLAB script\n"
   ]
  },
  {
   "cell_type": "code",
   "execution_count": 6,
   "metadata": {},
   "outputs": [
    {
     "name": "stdout",
     "output_type": "stream",
     "text": [
      "[[   1 1279    1 ... 3886   69  708]\n",
      " [   2    1 1497 ...  729 1362  729]\n",
      " [   3  401   43 ... 2050 1509 3117]\n",
      " ...\n",
      " [4022 1990  495 ...  626 1168 1740]\n",
      " [4023 2430 2192 ... 3742 3881 3591]\n",
      " [4024 2823 4024 ...  539 3282  389]]\n"
     ]
    }
   ],
   "source": [
    "# let's have a walk over social network (friendship)\n",
    "import random\n",
    "walks = np.zeros((num_walk*num_node,len_walk),dtype = np.int64);\n",
    "for ww in range(num_walk):\n",
    "    for ii in range(num_node):\n",
    "        seq = np.zeros((len_walk,),dtype=int)\n",
    "        seq[0] = ii\n",
    "        current_e = ii\n",
    "        for jj in range(len_walk-1):\n",
    "            rand_ind = random.randint(0, node_list_len[seq[jj]]-1);\n",
    "            tempvar = node_list[seq[jj]][0] \n",
    "            #print(node_list_len[seq[jj]])\n",
    "            #print(rand_ind)\n",
    "            #print(tempvar.shape)\n",
    "            seq[jj+1] = tempvar[rand_ind];\n",
    "        \n",
    "        walks[ii+(ww-1)*num_node,:] = seq\n",
    "        \n",
    "#preprocessing for removing 0 quantities\n",
    "for i in range(walks.shape[0]):\n",
    "    for j in range(walks.shape[1]):\n",
    "        walks[i,j] = walks[i,j] +1\n",
    "#print(min(map(min, walks))) #should be 1 and 4024\n",
    "print(walks)"
   ]
  },
  {
   "cell_type": "code",
   "execution_count": 7,
   "metadata": {},
   "outputs": [
    {
     "data": {
      "text/plain": [
       "4024"
      ]
     },
     "execution_count": 7,
     "metadata": {},
     "output_type": "execute_result"
    }
   ],
   "source": [
    "# 4. prepare negative sample table in advance (fast)\n",
    "# social relationship\n",
    "from collections import Counter\n",
    "(dumy,r) = network.nonzero(); #MATLAB gives [y,x]; Python gives (x,y)\n",
    "temptab = Counter(r) #len(temptab) = size(tab_degree,1) #Counter gives unique elements in r\n",
    "tab2= [[] for _ in range(len(temptab))]\n",
    "\n",
    "for i in range(len(temptab)):\n",
    "    tab2[i].append(temptab[i])\n",
    "tab2=np.array(tab2)[:,0] #when printing temptab, not in asc. order but here it becomes asc. wrt keys\n",
    "\n",
    "tab1=np.unique(r)\n",
    "tab3=[[] for _ in range(len(tab1))]\n",
    "tot=sum(tab2)\n",
    "for i in range(len(tab1)):\n",
    "    tab3[i]=round((tab2[i]*100)/tot,4)\n",
    "tab_degree=np.stack((tab1,tab2,tab3),axis=1) # equivalent of tab_degree = tabulate(r) in MATLAB\n",
    "\n",
    "freq = np.array([round(np.power(i,0.75),4) for i in tab_degree[:,2]] )\n",
    "den=float(sum(freq))\n",
    "neg_sam_table_social = np.repeat((1+tab_degree[:,0]),np.around(1000000*freq/sum(freq)).astype(np.int64))\n",
    "neg_sam_table_social=neg_sam_table_social.astype(np.int64) # unigram with 0.75 power\n",
    "#neg_sam_table_social[740] check for debugging\n",
    "del temptab,tab1,tab2,tab3,tab_degree,freq,den\n",
    "max(neg_sam_table_social)"
   ]
  },
  {
   "cell_type": "code",
   "execution_count": 8,
   "metadata": {},
   "outputs": [
    {
     "name": "stdout",
     "output_type": "stream",
     "text": [
      "[array([[   1,    1,    1, ..., 4024, 4024, 4024]]), array([[4024, 4024, 4024, ..., 4191, 4191, 4191]]), array([[4191, 4191, 4191, ..., 7818, 7818, 7818]]), array([[7818, 7818, 7818, ..., 8117, 8117, 8117]])]\n"
     ]
    }
   ],
   "source": [
    "#checkins: user, venue, time, semantic, with node type normalization for each node domain\n",
    "\n",
    "neg_sam_table_mobility_norm = [[] for _ in range(4)]\n",
    "for ii in range(len(neg_sam_table_mobility_norm)):\n",
    "    tab1=np.array([elem for elem in range(max(temp_checkins[:,ii]))])#tab1 has all elements;even with frequency 0\n",
    "    temptab = Counter(temp_checkins[:,ii]) #correct\n",
    "    tab2= np.zeros((len(tab1),))\n",
    "    for i in tab1:\n",
    "        tab2[i]= temptab[i+1] #because in python, index starts from 0\n",
    "    tab2 = np.array(tab2)\n",
    "    tot=np.sum(tab2)\n",
    "    tab3=np.zeros((len(tab1),))\n",
    "    for i in range(len(tab1)):\n",
    "        tab3[i]= np.round((tab2[i]*100)/tot,4) if (tot) else 0\n",
    "    tab3=np.array(tab3)\n",
    "    tab_degree=np.stack((tab1,tab2,tab3),axis=1)\n",
    "    freq = np.array([np.round(np.power(i,0.75),4) for i in tab_degree[:,2]])\n",
    "    den=float(sum(freq))\n",
    "    ingoes = np.repeat((tab_degree[:,0]+1),np.around(100000*freq/sum(freq)).astype(np.int64))\n",
    "    neg_sam_table_mobility_norm[ii].append(ingoes)\n",
    "\n",
    "    del tab1,tab2,i,tab3,tab_degree,freq,ingoes,tot\n",
    "\n",
    "neg_sam_table_mobility_norm = [np.array(x).astype(np.int64) for x in neg_sam_table_mobility_norm]\n",
    "\n",
    "#neg_sam_table_mobility1 = neg_sam_table_mobility_norm[3][0]\n",
    "#neg_sam_table_mobility1[5]\n",
    "print(neg_sam_table_mobility_norm)"
   ]
  },
  {
   "cell_type": "code",
   "execution_count": 9,
   "metadata": {},
   "outputs": [],
   "source": [
    "# LBSN2vec\n",
    "dim_emb = 128\n",
    "num_epoch = 1\n",
    "num_threads =  4\n",
    "K_neg = 10\n",
    "win_size = 10\n",
    "learning_rate = 0.001\n",
    "\n",
    "\n",
    "embs_ini = (np.random.uniform(size=(num_node_total,dim_emb))-0.5)/dim_emb \n",
    "temp = np.sum(np.power(embs_ini,2),axis=1)\n",
    "embs_len = np.power(temp,0.5)\n",
    "den = embs_len\n",
    "for i in range(dim_emb-1):\n",
    "    den=np.vstack((den,embs_len))\n",
    "den=den.T\n",
    "#print(den.shape)\n",
    "#print(embs_ini.shape)\n",
    "embs_ini = np.divide(embs_ini,den)\n",
    "\n",
    "mobility_ratio = 0.2"
   ]
  },
  {
   "cell_type": "code",
   "execution_count": 10,
   "metadata": {},
   "outputs": [
    {
     "name": "stdout",
     "output_type": "stream",
     "text": [
      "this is num_w 40240\n",
      "this is num_wl 80\n",
      "[[   1    2    3 ... 4022 4023 4024]\n",
      " [1279    1  401 ... 1990 2430 2823]\n",
      " [   1 1497   43 ...  495 2192 4024]\n",
      " ...\n",
      " [3886  729 2050 ...  626 3742  539]\n",
      " [  69 1362 1509 ... 1168 3881 3282]\n",
      " [ 708  729 3117 ... 1740 3591  389]]\n"
     ]
    },
    {
     "ename": "KeyboardInterrupt",
     "evalue": "",
     "output_type": "error",
     "traceback": [
      "\u001b[0;31m---------------------------------------------------------------------------\u001b[0m",
      "\u001b[0;31mKeyboardInterrupt\u001b[0m                         Traceback (most recent call last)",
      "\u001b[0;32m<ipython-input-10-2f8122398c3b>\u001b[0m in \u001b[0;36m<module>\u001b[0;34m\u001b[0m\n\u001b[1;32m      3\u001b[0m embs = learn_LBSN2Vec_embedding.driver_fn(walks.T,user_checkins, user_checkins_counter,embs_ini.T,learning_rate, \n\u001b[1;32m      4\u001b[0m                                 \u001b[0mK_neg\u001b[0m\u001b[0;34m,\u001b[0m\u001b[0mneg_sam_table_social\u001b[0m\u001b[0;34m,\u001b[0m \u001b[0mwin_size\u001b[0m\u001b[0;34m,\u001b[0m \u001b[0mneg_sam_table_mobility_norm\u001b[0m\u001b[0;34m,\u001b[0m\u001b[0;34m\u001b[0m\u001b[0m\n\u001b[0;32m----> 5\u001b[0;31m                                 num_epoch, mobility_ratio);\n\u001b[0m",
      "\u001b[0;32m~/Documents/IITH2020/learn_LBSN2Vec_embedding.py\u001b[0m in \u001b[0;36mdriver_fn\u001b[0;34m(walks, user_checkins, user_checkins_counter, embs_ini, learning_rate, K_neg, neg_sam_table_social, win_size, neg_sam_table_mobility_norm, num_epoch, mobility_ratio)\u001b[0m\n\u001b[1;32m    265\u001b[0m                                         \u001b[0mneg_sam_table_social\u001b[0m\u001b[0;34m,\u001b[0m\u001b[0mtable_size_social\u001b[0m\u001b[0;34m,\u001b[0m \u001b[0mwin_size\u001b[0m\u001b[0;34m,\u001b[0m \u001b[0mneg_sam_table_mobility1\u001b[0m\u001b[0;34m,\u001b[0m\u001b[0mtable_size_mobility1\u001b[0m\u001b[0;34m,\u001b[0m\u001b[0mneg_sam_table_mobility2\u001b[0m\u001b[0;34m,\u001b[0m\u001b[0;34m\u001b[0m\u001b[0m\n\u001b[1;32m    266\u001b[0m                                         \u001b[0mtable_size_mobility2\u001b[0m\u001b[0;34m,\u001b[0m\u001b[0mneg_sam_table_mobility3\u001b[0m\u001b[0;34m,\u001b[0m\u001b[0mtable_size_mobility3\u001b[0m\u001b[0;34m,\u001b[0m\u001b[0mneg_sam_table_mobility4\u001b[0m\u001b[0;34m,\u001b[0m\u001b[0mtable_size_mobility4\u001b[0m\u001b[0;34m,\u001b[0m\u001b[0;34m\u001b[0m\u001b[0m\n\u001b[0;32m--> 267\u001b[0;31m \t\t\t\t\tnum_epoch, mobility_ratio)\n\u001b[0m\u001b[1;32m    268\u001b[0m     \u001b[0;32mreturn\u001b[0m\u001b[0;34m(\u001b[0m\u001b[0memb_n\u001b[0m\u001b[0;34m)\u001b[0m\u001b[0;34m\u001b[0m\u001b[0m\n\u001b[1;32m    269\u001b[0m \u001b[0;34m\u001b[0m\u001b[0m\n",
      "\u001b[0;32m~/Documents/IITH2020/learn_LBSN2Vec_embedding.py\u001b[0m in \u001b[0;36mlearn\u001b[0;34m(walk, num_w, num_wl, user_checkins, user_checkins_count, emb_n, num_n, dim_emb, starting_alpha, num_neg, neg_sam_table_social, table_size_social, win_size, neg_sam_table_mobility1, table_size_mobility1, neg_sam_table_mobility2, table_size_mobility2, neg_sam_table_mobility3, table_size_mobility3, neg_sam_table_mobility4, table_size_mobility4, num_epoch, mobility_ratio)\u001b[0m\n\u001b[1;32m    204\u001b[0m                             \u001b[0;32mif\u001b[0m \u001b[0;34m(\u001b[0m\u001b[0mword\u001b[0m\u001b[0;34m!=\u001b[0m\u001b[0mtarget_e\u001b[0m\u001b[0;34m)\u001b[0m\u001b[0;34m:\u001b[0m\u001b[0;34m\u001b[0m\u001b[0m\n\u001b[1;32m    205\u001b[0m                                 \u001b[0;31m#print(\"inside learn in line 205:word \"+str(word)+\" target_e \"+str(target_e))\u001b[0m\u001b[0;34m\u001b[0m\u001b[0;34m\u001b[0m\u001b[0m\n\u001b[0;32m--> 206\u001b[0;31m                                 \u001b[0memb_n\u001b[0m \u001b[0;34m=\u001b[0m \u001b[0mlearn_an_edge_with_BFT\u001b[0m\u001b[0;34m(\u001b[0m\u001b[0mword\u001b[0m\u001b[0;34m,\u001b[0m \u001b[0mtarget_e\u001b[0m\u001b[0;34m,\u001b[0m \u001b[0mdim_emb\u001b[0m\u001b[0;34m,\u001b[0m \u001b[0mnext_random\u001b[0m\u001b[0;34m,\u001b[0m \u001b[0mbest_fit\u001b[0m\u001b[0;34m,\u001b[0m \u001b[0mnum_neg\u001b[0m\u001b[0;34m,\u001b[0m \u001b[0memb_n\u001b[0m\u001b[0;34m,\u001b[0m \u001b[0malpha\u001b[0m\u001b[0;34m,\u001b[0m                                                                                   \u001b[0mneg_sam_table_social\u001b[0m\u001b[0;34m,\u001b[0m\u001b[0mtable_size_social\u001b[0m\u001b[0;34m)\u001b[0m\u001b[0;34m\u001b[0m\u001b[0m\n\u001b[0m\u001b[1;32m    207\u001b[0m                         \u001b[0;32mif\u001b[0m \u001b[0;34m(\u001b[0m\u001b[0mi\u001b[0m\u001b[0;34m+\u001b[0m\u001b[0mj\u001b[0m\u001b[0;34m)\u001b[0m\u001b[0;34m<\u001b[0m\u001b[0mnum_wl\u001b[0m \u001b[0;34m:\u001b[0m\u001b[0;34m\u001b[0m\u001b[0m\n\u001b[1;32m    208\u001b[0m                             \u001b[0mtarget_e\u001b[0m \u001b[0;34m=\u001b[0m \u001b[0mwalk\u001b[0m\u001b[0;34m[\u001b[0m\u001b[0;34m(\u001b[0m\u001b[0mi\u001b[0m\u001b[0;34m+\u001b[0m\u001b[0mj\u001b[0m\u001b[0;34m)\u001b[0m\u001b[0;34m,\u001b[0m\u001b[0mw\u001b[0m\u001b[0;34m]\u001b[0m\u001b[0;34m\u001b[0m\u001b[0m\n",
      "\u001b[0;32m~/Documents/IITH2020/learn_LBSN2Vec_embedding.py\u001b[0m in \u001b[0;36mlearn_an_edge_with_BFT\u001b[0;34m(word, target_e, dim_emb, next_random, best_fit, num_neg, emb_n, alpha, neg_sam_table_social, table_size_social)\u001b[0m\n\u001b[1;32m    101\u001b[0m         \u001b[0;32mfor\u001b[0m \u001b[0mn\u001b[0m \u001b[0;32min\u001b[0m \u001b[0mrange\u001b[0m\u001b[0;34m(\u001b[0m\u001b[0mnum_neg\u001b[0m\u001b[0;34m)\u001b[0m\u001b[0;34m:\u001b[0m\u001b[0;34m\u001b[0m\u001b[0m\n\u001b[1;32m    102\u001b[0m             \u001b[0mnext_random\u001b[0m \u001b[0;34m=\u001b[0m \u001b[0mgetNextRand\u001b[0m\u001b[0;34m(\u001b[0m\u001b[0mnext_random\u001b[0m\u001b[0;34m)\u001b[0m\u001b[0;34m\u001b[0m\u001b[0m\n\u001b[0;32m--> 103\u001b[0;31m             \u001b[0mtarget_n\u001b[0m \u001b[0;34m=\u001b[0m \u001b[0mget_a_neg_sample\u001b[0m\u001b[0;34m(\u001b[0m\u001b[0mnext_random\u001b[0m\u001b[0;34m,\u001b[0m \u001b[0mneg_sam_table_social\u001b[0m\u001b[0;34m,\u001b[0m \u001b[0mtable_size_social\u001b[0m\u001b[0;34m)\u001b[0m\u001b[0;34m\u001b[0m\u001b[0m\n\u001b[0m\u001b[1;32m    104\u001b[0m             \u001b[0;32mif\u001b[0m \u001b[0;34m(\u001b[0m\u001b[0;34m(\u001b[0m\u001b[0mtarget_n\u001b[0m \u001b[0;34m!=\u001b[0m \u001b[0mtarget_e\u001b[0m\u001b[0;34m)\u001b[0m \u001b[0;32mand\u001b[0m \u001b[0;34m(\u001b[0m\u001b[0mtarget_n\u001b[0m \u001b[0;34m!=\u001b[0m \u001b[0mword\u001b[0m\u001b[0;34m)\u001b[0m\u001b[0;34m)\u001b[0m\u001b[0;34m:\u001b[0m\u001b[0;34m\u001b[0m\u001b[0m\n\u001b[1;32m    105\u001b[0m                 \u001b[0mloc_neg\u001b[0m \u001b[0;34m=\u001b[0m \u001b[0mtarget_n\u001b[0m\u001b[0;34m\u001b[0m\u001b[0m\n",
      "\u001b[0;32m~/Documents/IITH2020/learn_LBSN2Vec_embedding.py\u001b[0m in \u001b[0;36mget_a_neg_sample\u001b[0;34m(next_random, neg_sam_table, table_size)\u001b[0m\n\u001b[1;32m     40\u001b[0m \u001b[0;34m\u001b[0m\u001b[0m\n\u001b[1;32m     41\u001b[0m \u001b[0;32mdef\u001b[0m \u001b[0mget_a_neg_sample\u001b[0m\u001b[0;34m(\u001b[0m\u001b[0mnext_random\u001b[0m\u001b[0;34m,\u001b[0m \u001b[0mneg_sam_table\u001b[0m\u001b[0;34m,\u001b[0m \u001b[0mtable_size\u001b[0m\u001b[0;34m)\u001b[0m\u001b[0;34m:\u001b[0m\u001b[0;34m\u001b[0m\u001b[0m\n\u001b[0;32m---> 42\u001b[0;31m     \u001b[0mind\u001b[0m \u001b[0;34m=\u001b[0m \u001b[0;34m(\u001b[0m\u001b[0mnext_random\u001b[0m \u001b[0;34m>>\u001b[0m \u001b[0;36m16\u001b[0m\u001b[0;34m)\u001b[0m \u001b[0;34m%\u001b[0m \u001b[0mtable_size\u001b[0m\u001b[0;34m\u001b[0m\u001b[0m\n\u001b[0m\u001b[1;32m     43\u001b[0m     \u001b[0mtarget_n\u001b[0m \u001b[0;34m=\u001b[0m \u001b[0mneg_sam_table\u001b[0m\u001b[0;34m[\u001b[0m\u001b[0mind\u001b[0m\u001b[0;34m]\u001b[0m\u001b[0;34m\u001b[0m\u001b[0m\n\u001b[1;32m     44\u001b[0m     \u001b[0;32mreturn\u001b[0m\u001b[0;34m(\u001b[0m\u001b[0mtarget_n\u001b[0m\u001b[0;34m)\u001b[0m\u001b[0;34m\u001b[0m\u001b[0m\n",
      "\u001b[0;31mKeyboardInterrupt\u001b[0m: "
     ]
    }
   ],
   "source": [
    "import learn_LBSN2Vec_embedding\n",
    "\n",
    "embs = learn_LBSN2Vec_embedding.driver_fn(walks.T,user_checkins, user_checkins_counter,embs_ini.T,learning_rate, \n",
    "                                K_neg,neg_sam_table_social, win_size, neg_sam_table_mobility_norm,\n",
    "                                num_epoch, mobility_ratio);"
   ]
  },
  {
   "cell_type": "code",
   "execution_count": 16,
   "metadata": {},
   "outputs": [
    {
     "data": {
      "text/plain": [
       "100502"
      ]
     },
     "execution_count": 16,
     "metadata": {},
     "output_type": "execute_result"
    }
   ],
   "source": [
    "neg_sam_table_mobility = neg_sam_table_mobility_norm\n",
    "neg_sam_table_mobility1 = neg_sam_table_mobility[0][0]\n",
    "table_size_mobility1 = neg_sam_table_mobility1.shape\n",
    "table_size_mobility1[0]"
   ]
  },
  {
   "cell_type": "code",
   "execution_count": null,
   "metadata": {},
   "outputs": [],
   "source": []
  }
 ],
 "metadata": {
  "kernelspec": {
   "display_name": "Python 3",
   "language": "python",
   "name": "python3"
  },
  "language_info": {
   "codemirror_mode": {
    "name": "ipython",
    "version": 3
   },
   "file_extension": ".py",
   "mimetype": "text/x-python",
   "name": "python",
   "nbconvert_exporter": "python",
   "pygments_lexer": "ipython3",
   "version": "3.6.6"
  }
 },
 "nbformat": 4,
 "nbformat_minor": 2
}
