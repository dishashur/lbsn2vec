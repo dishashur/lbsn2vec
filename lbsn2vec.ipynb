{
 "cells": [
  {
   "cell_type": "code",
   "execution_count": 11,
   "metadata": {},
   "outputs": [],
   "source": [
    "#collecting data\n",
    "import numpy as np\n",
    "import scipy.io\n",
    "mat = scipy.io.loadmat('dataset_connected_NYC.mat') #while tryin in terminal, start path with Documents"
   ]
  },
  {
   "cell_type": "markdown",
   "metadata": {},
   "source": [
    "## Preprocessing data"
   ]
  },
  {
   "cell_type": "code",
   "execution_count": 12,
   "metadata": {},
   "outputs": [
    {
     "name": "stdout",
     "output_type": "stream",
     "text": [
      "[1801  105  571 ...  718 1446 2305]\n",
      "[39 39 39 ... 59 59 60]\n",
      "[  17807    5708    3968 ...   12596  104201 1692889]\n",
      "[ 70  33 300 ...  70 279 190]\n"
     ]
    }
   ],
   "source": [
    "friendship_new = mat['friendship_new']\n",
    "friendship_old = mat['friendship_old']\n",
    "selected_checkins = mat['selected_checkins']\n",
    "selected_users_IDs = mat['selected_users_IDs']\n",
    "selected_venue_IDs = mat['selected_venue_IDs']\n",
    "selected_venue_IDs = selected_venue_IDs[:,0]\n",
    "print(selected_checkins[:,0])\n",
    "print(selected_checkins[:,1])\n",
    "print(selected_checkins[:,2])\n",
    "print(selected_checkins[:,3])"
   ]
  },
  {
   "cell_type": "code",
   "execution_count": 13,
   "metadata": {},
   "outputs": [
    {
     "name": "stdout",
     "output_type": "stream",
     "text": [
      "8117\n"
     ]
    }
   ],
   "source": [
    "# 1. rebuild node index\n",
    "offset1 = max(selected_checkins[:,0]);\n",
    "dumy, dumy, n = np.unique(selected_checkins[:,1],return_index=True,return_inverse=True, axis=0)\n",
    "selected_checkins[:,1] = n+offset1;\n",
    "#print(selected_checkins[:,1])\n",
    "#print(offset1)\n",
    "#print(n)\n",
    "offset2 = max(selected_checkins[:,1]);\n",
    "dumy, dumy, n = np.unique(selected_checkins[:,2],return_index=True,return_inverse=True, axis=0)\n",
    "selected_checkins[:,2] = n+offset2;\n",
    "#print(selected_checkins[:,2])\n",
    "#print(offset2)\n",
    "#print(n)\n",
    "offset3 = max(selected_checkins[:,2]);\n",
    "dumy, dumy, n = np.unique(selected_checkins[:,3],return_index=True,return_inverse=True, axis=0)\n",
    "selected_checkins[:,3] = n+offset3;\n",
    "#print(selected_checkins[:,3])\n",
    "#print(offset3)\n",
    "#print(n)\n",
    "\n",
    "num_node_total = max(map(max, selected_checkins)) #max of the entire matrix\n",
    "print(num_node_total)"
   ]
  },
  {
   "cell_type": "code",
   "execution_count": 14,
   "metadata": {},
   "outputs": [],
   "source": [
    "# 2. prepare checkins per user (fast)\n",
    "#user_chechkins is a cell in MATLAB; using Python List for the same\n",
    "user_checkins = [[] for _ in range(selected_users_IDs.shape[0])] \n",
    "user_checkins_counter=np.zeros((len(selected_users_IDs),1)).astype(np.int64)\n",
    "ind = selected_checkins[:,0].argsort(axis=0)\n",
    "temp_checkins = np.array([selected_checkins[i,:] for i in ind]) #will not exactly be similar to MATLAB op\n",
    "u,m,n = np.unique(temp_checkins[:,0],return_index=True,return_inverse=True, axis=0)\n",
    "m=m.reshape(-1,1)\n",
    "u=np.array(u)\n",
    "counters = np.vstack((m[1:],temp_checkins.shape[0]))-m #+1 is not there because indexing starts from 0\n",
    "ini_val=0\n",
    "for i in range(0,u.shape[0]):\n",
    "    user_checkins[u[i]-1].append(temp_checkins[ini_val:ini_val+counters[i,0],:])\n",
    "    user_checkins[u[i]-1]=np.array(user_checkins[u[i]-1])[0,:,:].T\n",
    "    user_checkins[u[i]-1].astype(np.int64)\n",
    "    ini_val=ini_val+counters[i,0]\n",
    "    user_checkins_counter[u[i]-1]=counters[i].astype(np.int64)\n",
    "#user_checkins[4023].shape #for debugging\n",
    "#np.count_nonzero(user_checkins_counter) #for debugging\n"
   ]
  },
  {
   "cell_type": "code",
   "execution_count": 15,
   "metadata": {},
   "outputs": [
    {
     "data": {
      "text/plain": [
       "array([36])"
      ]
     },
     "execution_count": 15,
     "metadata": {},
     "output_type": "execute_result"
    }
   ],
   "source": [
    "counters[-1] #checkpoint"
   ]
  },
  {
   "cell_type": "code",
   "execution_count": 16,
   "metadata": {},
   "outputs": [
    {
     "name": "stdout",
     "output_type": "stream",
     "text": [
      "[1773 2159]\n"
     ]
    }
   ],
   "source": [
    "# 3. random walk\n",
    "from scipy.sparse import csr_matrix\n",
    "num_node = len(selected_users_IDs)\n",
    "network=csr_matrix((np.ones((len(friendship_old),)), (friendship_old[:,0]-1, friendship_old[:,1]-1)), shape=(num_node, num_node))\n",
    "network=network+network.T\n",
    "\n",
    "node_list=[[] for _ in range(num_node)]\n",
    "node_list_len = np.zeros((num_node,));\n",
    "num_walk = 10;\n",
    "len_walk = 80;\n",
    "(indx,indy) = network.T.nonzero()\n",
    "temp, m, n = np.unique(indx,return_index=True,return_inverse=True, axis=0) #check m for debugging\n",
    "m=np.array(m).reshape(-1,1)\n",
    "node_list_len=np.vstack((m[1:],len(indx))) - m #+1 is not there because indexing starts from 0\n",
    "ini_val=0\n",
    "temp=np.array(temp)\n",
    "node_list_len=node_list_len[:,0] #for indexing\n",
    "\n",
    "for i in range(0,temp.shape[0]):\n",
    "    node_list[temp[i]].append(indy[ini_val:ini_val+node_list_len[i]])\n",
    "    ini_val=ini_val+node_list_len[i]\n",
    "#node_list #for debugging match with MATLAB\n",
    "#node_list_len.shape = np.count_nonzero(node_list_len) has to be as written in MATLAB script\n",
    "kk=node_list[5][0]\n",
    "print(kk)"
   ]
  },
  {
   "cell_type": "code",
   "execution_count": 17,
   "metadata": {},
   "outputs": [
    {
     "data": {
      "text/plain": [
       "array([1, 1, 2, 1])"
      ]
     },
     "execution_count": 17,
     "metadata": {},
     "output_type": "execute_result"
    }
   ],
   "source": [
    "node_list_len[-4:] #checkpoint"
   ]
  },
  {
   "cell_type": "code",
   "execution_count": 18,
   "metadata": {},
   "outputs": [],
   "source": [
    "# let's have a walk over social network (friendship)\n",
    "import random\n",
    "walks = np.zeros((num_walk*num_node,len_walk),dtype = np.int64);\n",
    "for ww in range(num_walk):\n",
    "    for ii in range(num_node):\n",
    "        seq = np.zeros((len_walk,),dtype=int)\n",
    "        seq[0] = ii\n",
    "        current_e = ii\n",
    "        for jj in range(len_walk-1):\n",
    "            rand_ind = random.randint(0, node_list_len[seq[jj]]-1);\n",
    "            tempvar = node_list[seq[jj]][0] \n",
    "            #print(node_list_len[seq[jj]])\n",
    "            #print(rand_ind)\n",
    "            #print(tempvar.shape)\n",
    "            seq[jj+1] = tempvar[rand_ind];\n",
    "        \n",
    "        walks[ii+(ww-1)*num_node,:] = seq\n",
    "        "
   ]
  },
  {
   "cell_type": "code",
   "execution_count": 19,
   "metadata": {},
   "outputs": [],
   "source": [
    "# 4. prepare negative sample table in advance (fast)\n",
    "# social relationship\n",
    "from collections import Counter\n",
    "(dumy,r) = network.nonzero(); #MATLAB gives [y,x]; Python gives (x,y)\n",
    "temptab = Counter(r) #len(temptab) = size(tab_degree,1) #Counter gives unique elements in r\n",
    "tab2= [[] for _ in range(len(temptab))]\n",
    "\n",
    "for i in range(len(temptab)):\n",
    "    tab2[i].append(temptab[i])\n",
    "tab2=np.array(tab2)[:,0] #when printing temptab, not in asc. order but here it becomes asc. wrt keys\n",
    "\n",
    "tab1=np.unique(r)\n",
    "tab3=[[] for _ in range(len(tab1))]\n",
    "tot=sum(tab2)\n",
    "for i in range(len(tab1)):\n",
    "    tab3[i]=round((tab2[i]*100)/tot,4)\n",
    "tab_degree=np.stack((tab1,tab2,tab3),axis=1) # equivalent of tab_degree = tabulate(r) in MATLAB\n",
    "\n",
    "freq = np.array([round(np.power(i,0.75),4) for i in tab_degree[:,2]] )\n",
    "den=float(sum(freq))\n",
    "neg_sam_table_social = np.repeat(tab_degree[:,0],np.around(1000000*freq/sum(freq)).astype(np.int64))\n",
    "neg_sam_table_social=neg_sam_table_social.astype(np.int64) # unigram with 0.75 power\n",
    "#neg_sam_table_social[740] check for debugging\n",
    "del temptab,tab1,tab2,tab3,tab_degree,freq,den\n"
   ]
  },
  {
   "cell_type": "code",
   "execution_count": 20,
   "metadata": {},
   "outputs": [],
   "source": [
    "#checkins: user, venue, time, semantic, with node type normalization for each node domain\n",
    "\n",
    "neg_sam_table_mobility_norm = [[] for _ in range(4)]\n",
    "for ii in range(len(neg_sam_table_mobility_norm)):\n",
    "    tab1=np.array([elem for elem in range(max(temp_checkins[:,ii]))])#tab1 has all elements;even with frequency 0\n",
    "    temptab = Counter(temp_checkins[:,ii]) #correct\n",
    "    tab2= np.zeros((len(tab1),))\n",
    "    for i in tab1:\n",
    "        tab2[i]= temptab[i+1] #because in python, index starts from 0\n",
    "    tab2 = np.array(tab2)\n",
    "    tot=np.sum(tab2)\n",
    "    tab3=np.zeros((len(tab1),))\n",
    "    for i in range(len(tab1)):\n",
    "        tab3[i]= np.round((tab2[i]*100)/tot,4) if (tot) else 0\n",
    "    tab3=np.array(tab3)\n",
    "    tab_degree=np.stack((tab1,tab2,tab3),axis=1)\n",
    "    freq = np.array([np.round(np.power(i,0.75),4) for i in tab_degree[:,2]])\n",
    "    den=float(sum(freq))\n",
    "    ingoes = np.repeat(tab_degree[:,0],np.around(100000*freq/sum(freq)).astype(np.int64))\n",
    "    neg_sam_table_mobility_norm[ii].append(ingoes)\n",
    "\n",
    "    del tab1,tab2,i,tab3,tab_degree,freq,ingoes,tot\n",
    "\n",
    "neg_sam_table_mobility_norm = [np.array(x).astype(np.int64) for x in neg_sam_table_mobility_norm]\n",
    "    \n",
    "#end"
   ]
  },
  {
   "cell_type": "code",
   "execution_count": 21,
   "metadata": {},
   "outputs": [],
   "source": [
    "# LBSN2vec\n",
    "dim_emb = 128\n",
    "num_epoch = 1\n",
    "num_threads =  4\n",
    "K_neg = 10\n",
    "win_size = 10\n",
    "learning_rate = 0.001\n",
    "\n",
    "\n",
    "embs_ini = (np.random.uniform(size=(num_node_total,dim_emb))-0.5)/dim_emb \n",
    "temp = np.sum(np.power(embs_ini,2),axis=1)\n",
    "embs_len = np.power(temp,0.5)\n",
    "den = embs_len\n",
    "for i in range(dim_emb-1):\n",
    "    den=np.vstack((den,embs_len))\n",
    "den=den.T\n",
    "#print(den.shape)\n",
    "#print(embs_ini.shape)\n",
    "embs_ini = np.divide(embs_ini,den)\n",
    "\n",
    "mobility_ratio = 0.2"
   ]
  },
  {
   "cell_type": "code",
   "execution_count": 89,
   "metadata": {},
   "outputs": [],
   "source": [
    "#simple example fot interfacing python and C\n",
    "#from ctypes import *\n",
    "\n",
    "#cfactorial = CDLL('./cfactorial.so') #this so file never gets over written\n",
    "\n",
    "#c_return = cfactorial.factorial(5)\n",
    "#c_return\n"
   ]
  },
  {
   "cell_type": "code",
   "execution_count": null,
   "metadata": {},
   "outputs": [],
   "source": []
  }
 ],
 "metadata": {
  "kernelspec": {
   "display_name": "Python 3",
   "language": "python",
   "name": "python3"
  },
  "language_info": {
   "codemirror_mode": {
    "name": "ipython",
    "version": 3
   },
   "file_extension": ".py",
   "mimetype": "text/x-python",
   "name": "python",
   "nbconvert_exporter": "python",
   "pygments_lexer": "ipython3",
   "version": "3.6.6"
  }
 },
 "nbformat": 4,
 "nbformat_minor": 2
}
